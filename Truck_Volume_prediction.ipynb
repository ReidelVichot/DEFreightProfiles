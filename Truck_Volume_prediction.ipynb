{
  "nbformat": 4,
  "nbformat_minor": 0,
  "metadata": {
    "colab": {
      "provenance": [],
      "include_colab_link": true
    },
    "kernelspec": {
      "name": "python3",
      "display_name": "Python 3"
    },
    "language_info": {
      "name": "python"
    }
  },
  "cells": [
    {
      "cell_type": "markdown",
      "metadata": {
        "id": "view-in-github",
        "colab_type": "text"
      },
      "source": [
        "<a href=\"https://colab.research.google.com/github/ReidelVichot/DEFreightProfiles/blob/main/Truck_Volume_prediction.ipynb\" target=\"_parent\"><img src=\"https://colab.research.google.com/assets/colab-badge.svg\" alt=\"Open In Colab\"/></a>"
      ]
    },
    {
      "cell_type": "code",
      "execution_count": 222,
      "metadata": {
        "id": "7EXXKzeVCcVE"
      },
      "outputs": [],
      "source": [
        "import numpy as np\n",
        "import pandas as pd\n",
        "import matplotlib.pyplot as plt\n",
        "import geopandas as gpd"
      ]
    },
    {
      "cell_type": "code",
      "source": [
        "from google.colab import drive\n",
        "drive.mount('/content/drive')"
      ],
      "metadata": {
        "colab": {
          "base_uri": "https://localhost:8080/"
        },
        "id": "cfLhMbazCy5I",
        "outputId": "1d596720-3960-44a9-b9af-a2652d9678b5"
      },
      "execution_count": 223,
      "outputs": [
        {
          "output_type": "stream",
          "name": "stdout",
          "text": [
            "Drive already mounted at /content/drive; to attempt to forcibly remount, call drive.mount(\"/content/drive\", force_remount=True).\n"
          ]
        }
      ]
    },
    {
      "cell_type": "code",
      "source": [
        "# Import CCD from google drive Source: Census\n",
        "ccd_name = \"/content/drive/My Drive/FreightProfiles/tl_rd22_10_cousub (1)/tl_rd22_10_cousub.shp\"\n",
        "ccd =  gpd.read_file(ccd_name)\n",
        "ccd = ccd.to_crs(\"EPSG:2235\")\n",
        "# Import tracks from google drive\n",
        "# Source: Fist Maps\n",
        "# https://de-firstmap-delaware.hub.arcgis.com/datasets/railroad-rail-lines/explore?location=39.655622%2C-75.765561%2C13.56\n",
        "rail_name = \"/content/drive/MyDrive/FreightProfiles/Delaware_Multimodal_2.0_tracks/Delaware_Multimodal_2.0.shp\"\n",
        "rail = gpd.read_file(rail_name)\n",
        "rail = rail.to_crs(\"EPSG:2235\")\n",
        "cols = ['NAME','geometry']\n",
        "ccd = ccd[cols]\n",
        "cols = ['TRACK_TYPE', 'STATUS', 'LINE_ID', 'OWNER', 'geometry']\n",
        "rail = rail[cols]"
      ],
      "metadata": {
        "id": "2iQBifB7C_M6"
      },
      "execution_count": 224,
      "outputs": []
    },
    {
      "cell_type": "code",
      "source": [
        "taz_name = \"/content/drive/MyDrive/temp_dstep23/TAZ_analysis/DE_TAZ_2021_TRKGEN_region.shp\"\n",
        "taz = gpd.read_file(taz_name)\n",
        "taz = taz.to_crs(\"EPSG:2235\")"
      ],
      "metadata": {
        "id": "-gOWa0bMs_9f"
      },
      "execution_count": 225,
      "outputs": []
    },
    {
      "cell_type": "code",
      "source": [
        "taz[\"FIS\"] = taz['TRN_UTL_20'] + taz['LE_HOSP_20'] + taz['CONS_20'] + taz['MANU_20']\n",
        "taz[\"SIS\"] = taz['OT_SVCS_20'] + taz['ED_HEALTH_'] + taz['FINANCE_20'] + taz['PRO_BUS_20'] + taz['LE_HOSP_20'] + taz['INFO_20']\n",
        "taz[\"FIS_per\"] = taz[\"FIS\"]/taz['TOT_20']*100\n",
        "taz_grpd = taz.groupby(\"CCD\").sum(numeric_only = True)\n",
        "taz_grpd[\"FIS_per\"] = taz_grpd[\"FIS\"]/taz_grpd[\"TOT_20\"]*100\n",
        "taz_grpd[\"FIS_capita\"] = taz_grpd[\"FIS\"]/taz_grpd[\"POP_20\"]\n",
        "taz_grpd.reset_index(inplace=True)\n",
        "taz_grpd.at[ 9, \"CCD\"] = \"Lower Christiana\"\n",
        "taz_grpd.at[25, \"CCD\"] = \"Upper Christiana\"\n",
        "taz_grpd.at[12, \"CCD\"] = \"Middletown-Odessa\"\n",
        "taz_grpd.at[20, \"CCD\"] = \"Pike Creek-Central Kirkwood\"\n",
        "ccd = ccd.merge(taz_grpd, left_on=\"NAME\", right_on=\"CCD\")"
      ],
      "metadata": {
        "id": "6_36wA6C3yrQ"
      },
      "execution_count": 226,
      "outputs": []
    },
    {
      "cell_type": "code",
      "source": [
        "CFC = gpd.read_file(\"/content/drive/MyDrive/FreightProfiles/Delaware_Freight_Corridors_-_FAST_Act_Critical_2.0 (1)/Delaware_Freight_Corridors_-_FAST_Act_Critical_2.0.shp\")\n",
        "CFC = CFC.to_crs(\"EPSG:2235\")"
      ],
      "metadata": {
        "id": "56Q97PIgcR-P"
      },
      "execution_count": 227,
      "outputs": []
    },
    {
      "cell_type": "code",
      "source": [
        "CFC['FREIGHT_NE'].unique()"
      ],
      "metadata": {
        "colab": {
          "base_uri": "https://localhost:8080/"
        },
        "id": "yHVkPL23aTBY",
        "outputId": "78b9e4d2-cc95-490e-8ed2-7dfd4c9e1e7b"
      },
      "execution_count": 228,
      "outputs": [
        {
          "output_type": "execute_result",
          "data": {
            "text/plain": [
              "array(['CUFC', 'CRFC', 'PFN'], dtype=object)"
            ]
          },
          "metadata": {},
          "execution_count": 228
        }
      ]
    },
    {
      "cell_type": "code",
      "source": [
        "CoastalCorridor = gpd.read_file(\"/content/drive/MyDrive/FreightProfiles/CoastalCorridor/Delaware_Multimodal_2.0.shp\")\n",
        "CoastalCorridor = CoastalCorridor.to_crs(\"EPSG:2235\")\n",
        "\n",
        "MetroCorridor = gpd.read_file(\"/content/drive/MyDrive/FreightProfiles/MetroCorridor/Delaware_Multimodal_2.0.shp\")\n",
        "MetroCorridor = MetroCorridor.to_crs(\"EPSG:2235\")\n",
        "\n",
        "LewesCorridor = gpd.read_file(\"/content/drive/MyDrive/FreightProfiles/LewesCorridor/Delaware_Multimodal_2.0.shp\")\n",
        "LewesCorridor = LewesCorridor.to_crs(\"EPSG:2235\")\n",
        "\n",
        "BayCorridor = gpd.read_file(\"/content/drive/MyDrive/FreightProfiles/BayCorridor/Delaware_Multimodal_2.0.shp\")\n",
        "BayCorridor = BayCorridor.to_crs(\"EPSG:2235\")\n",
        "\n",
        "PiedmontCorridor = gpd.read_file(\"/content/drive/MyDrive/FreightProfiles/PiedmontCorridor/Delaware_Multimodal_2.0.shp\")\n",
        "PiedmontCorridor = PiedmontCorridor.to_crs(\"EPSG:2235\")"
      ],
      "metadata": {
        "id": "zKuUx15UHvmr"
      },
      "execution_count": 229,
      "outputs": []
    },
    {
      "cell_type": "code",
      "source": [
        "truck_traffic = pd.read_csv(\"/content/drive/MyDrive/FreightProfiles/StreetLight/1635943_All_CCDsAvailable_trucks/1635943_All_CCDsAvailable_trucks_odg_comm.csv\")"
      ],
      "metadata": {
        "id": "MVxn692Ucq_T"
      },
      "execution_count": 230,
      "outputs": []
    },
    {
      "cell_type": "code",
      "source": [
        "cols = ['Vehicle Weight', 'Origin Zone ID', 'Origin Zone Name',\n",
        "        'Origin Zone Source', 'Destination Zone ID', 'Destination Zone Name',\n",
        "        'Destination Zone Source', 'Day Type', 'Day Part',\n",
        "        'Average Daily O-D Traffic (StL Index)',\n",
        "        'Average Daily Origin Zone Traffic (StL Index)',\n",
        "       'Average Daily Destination Zone Traffic (StL Index)',\n",
        "       'Avg Travel Time (sec)']"
      ],
      "metadata": {
        "id": "vGwCYwM6gmxq"
      },
      "execution_count": 231,
      "outputs": []
    },
    {
      "cell_type": "code",
      "source": [
        "truck_traffic = truck_traffic[cols]"
      ],
      "metadata": {
        "id": "5IUdj-KwgVW4"
      },
      "execution_count": 232,
      "outputs": []
    },
    {
      "cell_type": "code",
      "source": [
        "ccd[\"NAME\"].values"
      ],
      "metadata": {
        "colab": {
          "base_uri": "https://localhost:8080/"
        },
        "id": "YDAFSZP30Uam",
        "outputId": "efb3b8b5-980c-4a56-bf8c-c46ce0752272"
      },
      "execution_count": 233,
      "outputs": [
        {
          "output_type": "execute_result",
          "data": {
            "text/plain": [
              "array(['Lewes', 'Millsboro', 'Central Kent', 'Smyrna',\n",
              "       'Middletown-Odessa', 'New Castle', 'Pike Creek-Central Kirkwood',\n",
              "       'Wilmington', 'Lower Christiana', 'Piedmont', 'Upper Christiana',\n",
              "       'Georgetown', 'Milford South', 'Seaford', 'Selbyville-Frankford',\n",
              "       'Laurel-Delmar', 'Milton', 'Bridgeville-Greenwood', 'Dover',\n",
              "       'Kenton', 'Felton', 'Milford North', 'Harrington', 'Brandywine',\n",
              "       'Glasgow', 'Red Lion', 'Newark'], dtype=object)"
            ]
          },
          "metadata": {},
          "execution_count": 233
        }
      ]
    },
    {
      "cell_type": "code",
      "source": [
        "truck_traffic2 = truck_traffic[truck_traffic[\"Day Type\"]==\"0: All Days (M-Su)\"][truck_traffic['Day Part']==\"00: All Day (12am-12am)\"][truck_traffic['Vehicle Weight']==\"Heavy\"].groupby(\"Destination Zone Name\").sum(numeric_only=True).reset_index()"
      ],
      "metadata": {
        "colab": {
          "base_uri": "https://localhost:8080/"
        },
        "id": "8oSQqW6BkWyA",
        "outputId": "e433bac8-fd6a-48d4-d635-79f70aa2b2f6"
      },
      "execution_count": 234,
      "outputs": [
        {
          "output_type": "stream",
          "name": "stderr",
          "text": [
            "<ipython-input-234-c6cb3cecffb3>:1: UserWarning: Boolean Series key will be reindexed to match DataFrame index.\n",
            "  truck_traffic2 = truck_traffic[truck_traffic[\"Day Type\"]==\"0: All Days (M-Su)\"][truck_traffic['Day Part']==\"00: All Day (12am-12am)\"][truck_traffic['Vehicle Weight']==\"Heavy\"].groupby(\"Destination Zone Name\").sum(numeric_only=True).reset_index()\n"
          ]
        }
      ]
    },
    {
      "cell_type": "code",
      "source": [
        "truck_traffic_ccd = truck_traffic2[truck_traffic2[\"Destination Zone Name\"].isin(ccd[\"NAME\"].values)][['Destination Zone Name', 'Average Daily O-D Traffic (StL Index)']]"
      ],
      "metadata": {
        "id": "osPAGq3B0qPe"
      },
      "execution_count": 235,
      "outputs": []
    },
    {
      "cell_type": "code",
      "source": [
        "truck_traffic_ccd"
      ],
      "metadata": {
        "colab": {
          "base_uri": "https://localhost:8080/",
          "height": 394
        },
        "id": "-JKiFGFz4FsJ",
        "outputId": "167e909b-e264-41b0-ac38-07a381340d9a"
      },
      "execution_count": 236,
      "outputs": [
        {
          "output_type": "execute_result",
          "data": {
            "text/plain": [
              "            Destination Zone Name  Average Daily O-D Traffic (StL Index)\n",
              "7218                   Brandywine                                  30298\n",
              "7219                      Glasgow                                  14773\n",
              "7220             Lower Christiana                                  10172\n",
              "7221            Middletown-Odessa                                  28067\n",
              "7222                   New Castle                                 120256\n",
              "7223                       Newark                                  14722\n",
              "7224                     Piedmont                                   2591\n",
              "7225  Pike Creek-Central Kirkwood                                   5050\n",
              "7226                     Red Lion                                  40566\n",
              "7227             Upper Christiana                                  25262\n",
              "7228                   Wilmington                                  98320"
            ],
            "text/html": [
              "\n",
              "  <div id=\"df-91c2bb1c-2c3f-4c03-811f-6723f37d7091\" class=\"colab-df-container\">\n",
              "    <div>\n",
              "<style scoped>\n",
              "    .dataframe tbody tr th:only-of-type {\n",
              "        vertical-align: middle;\n",
              "    }\n",
              "\n",
              "    .dataframe tbody tr th {\n",
              "        vertical-align: top;\n",
              "    }\n",
              "\n",
              "    .dataframe thead th {\n",
              "        text-align: right;\n",
              "    }\n",
              "</style>\n",
              "<table border=\"1\" class=\"dataframe\">\n",
              "  <thead>\n",
              "    <tr style=\"text-align: right;\">\n",
              "      <th></th>\n",
              "      <th>Destination Zone Name</th>\n",
              "      <th>Average Daily O-D Traffic (StL Index)</th>\n",
              "    </tr>\n",
              "  </thead>\n",
              "  <tbody>\n",
              "    <tr>\n",
              "      <th>7218</th>\n",
              "      <td>Brandywine</td>\n",
              "      <td>30298</td>\n",
              "    </tr>\n",
              "    <tr>\n",
              "      <th>7219</th>\n",
              "      <td>Glasgow</td>\n",
              "      <td>14773</td>\n",
              "    </tr>\n",
              "    <tr>\n",
              "      <th>7220</th>\n",
              "      <td>Lower Christiana</td>\n",
              "      <td>10172</td>\n",
              "    </tr>\n",
              "    <tr>\n",
              "      <th>7221</th>\n",
              "      <td>Middletown-Odessa</td>\n",
              "      <td>28067</td>\n",
              "    </tr>\n",
              "    <tr>\n",
              "      <th>7222</th>\n",
              "      <td>New Castle</td>\n",
              "      <td>120256</td>\n",
              "    </tr>\n",
              "    <tr>\n",
              "      <th>7223</th>\n",
              "      <td>Newark</td>\n",
              "      <td>14722</td>\n",
              "    </tr>\n",
              "    <tr>\n",
              "      <th>7224</th>\n",
              "      <td>Piedmont</td>\n",
              "      <td>2591</td>\n",
              "    </tr>\n",
              "    <tr>\n",
              "      <th>7225</th>\n",
              "      <td>Pike Creek-Central Kirkwood</td>\n",
              "      <td>5050</td>\n",
              "    </tr>\n",
              "    <tr>\n",
              "      <th>7226</th>\n",
              "      <td>Red Lion</td>\n",
              "      <td>40566</td>\n",
              "    </tr>\n",
              "    <tr>\n",
              "      <th>7227</th>\n",
              "      <td>Upper Christiana</td>\n",
              "      <td>25262</td>\n",
              "    </tr>\n",
              "    <tr>\n",
              "      <th>7228</th>\n",
              "      <td>Wilmington</td>\n",
              "      <td>98320</td>\n",
              "    </tr>\n",
              "  </tbody>\n",
              "</table>\n",
              "</div>\n",
              "    <div class=\"colab-df-buttons\">\n",
              "\n",
              "  <div class=\"colab-df-container\">\n",
              "    <button class=\"colab-df-convert\" onclick=\"convertToInteractive('df-91c2bb1c-2c3f-4c03-811f-6723f37d7091')\"\n",
              "            title=\"Convert this dataframe to an interactive table.\"\n",
              "            style=\"display:none;\">\n",
              "\n",
              "  <svg xmlns=\"http://www.w3.org/2000/svg\" height=\"24px\" viewBox=\"0 -960 960 960\">\n",
              "    <path d=\"M120-120v-720h720v720H120Zm60-500h600v-160H180v160Zm220 220h160v-160H400v160Zm0 220h160v-160H400v160ZM180-400h160v-160H180v160Zm440 0h160v-160H620v160ZM180-180h160v-160H180v160Zm440 0h160v-160H620v160Z\"/>\n",
              "  </svg>\n",
              "    </button>\n",
              "\n",
              "  <style>\n",
              "    .colab-df-container {\n",
              "      display:flex;\n",
              "      gap: 12px;\n",
              "    }\n",
              "\n",
              "    .colab-df-convert {\n",
              "      background-color: #E8F0FE;\n",
              "      border: none;\n",
              "      border-radius: 50%;\n",
              "      cursor: pointer;\n",
              "      display: none;\n",
              "      fill: #1967D2;\n",
              "      height: 32px;\n",
              "      padding: 0 0 0 0;\n",
              "      width: 32px;\n",
              "    }\n",
              "\n",
              "    .colab-df-convert:hover {\n",
              "      background-color: #E2EBFA;\n",
              "      box-shadow: 0px 1px 2px rgba(60, 64, 67, 0.3), 0px 1px 3px 1px rgba(60, 64, 67, 0.15);\n",
              "      fill: #174EA6;\n",
              "    }\n",
              "\n",
              "    .colab-df-buttons div {\n",
              "      margin-bottom: 4px;\n",
              "    }\n",
              "\n",
              "    [theme=dark] .colab-df-convert {\n",
              "      background-color: #3B4455;\n",
              "      fill: #D2E3FC;\n",
              "    }\n",
              "\n",
              "    [theme=dark] .colab-df-convert:hover {\n",
              "      background-color: #434B5C;\n",
              "      box-shadow: 0px 1px 3px 1px rgba(0, 0, 0, 0.15);\n",
              "      filter: drop-shadow(0px 1px 2px rgba(0, 0, 0, 0.3));\n",
              "      fill: #FFFFFF;\n",
              "    }\n",
              "  </style>\n",
              "\n",
              "    <script>\n",
              "      const buttonEl =\n",
              "        document.querySelector('#df-91c2bb1c-2c3f-4c03-811f-6723f37d7091 button.colab-df-convert');\n",
              "      buttonEl.style.display =\n",
              "        google.colab.kernel.accessAllowed ? 'block' : 'none';\n",
              "\n",
              "      async function convertToInteractive(key) {\n",
              "        const element = document.querySelector('#df-91c2bb1c-2c3f-4c03-811f-6723f37d7091');\n",
              "        const dataTable =\n",
              "          await google.colab.kernel.invokeFunction('convertToInteractive',\n",
              "                                                    [key], {});\n",
              "        if (!dataTable) return;\n",
              "\n",
              "        const docLinkHtml = 'Like what you see? Visit the ' +\n",
              "          '<a target=\"_blank\" href=https://colab.research.google.com/notebooks/data_table.ipynb>data table notebook</a>'\n",
              "          + ' to learn more about interactive tables.';\n",
              "        element.innerHTML = '';\n",
              "        dataTable['output_type'] = 'display_data';\n",
              "        await google.colab.output.renderOutput(dataTable, element);\n",
              "        const docLink = document.createElement('div');\n",
              "        docLink.innerHTML = docLinkHtml;\n",
              "        element.appendChild(docLink);\n",
              "      }\n",
              "    </script>\n",
              "  </div>\n",
              "\n",
              "\n",
              "<div id=\"df-dc9b6de5-8930-40fb-9db5-d2f65a8bca07\">\n",
              "  <button class=\"colab-df-quickchart\" onclick=\"quickchart('df-dc9b6de5-8930-40fb-9db5-d2f65a8bca07')\"\n",
              "            title=\"Suggest charts\"\n",
              "            style=\"display:none;\">\n",
              "\n",
              "<svg xmlns=\"http://www.w3.org/2000/svg\" height=\"24px\"viewBox=\"0 0 24 24\"\n",
              "     width=\"24px\">\n",
              "    <g>\n",
              "        <path d=\"M19 3H5c-1.1 0-2 .9-2 2v14c0 1.1.9 2 2 2h14c1.1 0 2-.9 2-2V5c0-1.1-.9-2-2-2zM9 17H7v-7h2v7zm4 0h-2V7h2v10zm4 0h-2v-4h2v4z\"/>\n",
              "    </g>\n",
              "</svg>\n",
              "  </button>\n",
              "\n",
              "<style>\n",
              "  .colab-df-quickchart {\n",
              "      --bg-color: #E8F0FE;\n",
              "      --fill-color: #1967D2;\n",
              "      --hover-bg-color: #E2EBFA;\n",
              "      --hover-fill-color: #174EA6;\n",
              "      --disabled-fill-color: #AAA;\n",
              "      --disabled-bg-color: #DDD;\n",
              "  }\n",
              "\n",
              "  [theme=dark] .colab-df-quickchart {\n",
              "      --bg-color: #3B4455;\n",
              "      --fill-color: #D2E3FC;\n",
              "      --hover-bg-color: #434B5C;\n",
              "      --hover-fill-color: #FFFFFF;\n",
              "      --disabled-bg-color: #3B4455;\n",
              "      --disabled-fill-color: #666;\n",
              "  }\n",
              "\n",
              "  .colab-df-quickchart {\n",
              "    background-color: var(--bg-color);\n",
              "    border: none;\n",
              "    border-radius: 50%;\n",
              "    cursor: pointer;\n",
              "    display: none;\n",
              "    fill: var(--fill-color);\n",
              "    height: 32px;\n",
              "    padding: 0;\n",
              "    width: 32px;\n",
              "  }\n",
              "\n",
              "  .colab-df-quickchart:hover {\n",
              "    background-color: var(--hover-bg-color);\n",
              "    box-shadow: 0 1px 2px rgba(60, 64, 67, 0.3), 0 1px 3px 1px rgba(60, 64, 67, 0.15);\n",
              "    fill: var(--button-hover-fill-color);\n",
              "  }\n",
              "\n",
              "  .colab-df-quickchart-complete:disabled,\n",
              "  .colab-df-quickchart-complete:disabled:hover {\n",
              "    background-color: var(--disabled-bg-color);\n",
              "    fill: var(--disabled-fill-color);\n",
              "    box-shadow: none;\n",
              "  }\n",
              "\n",
              "  .colab-df-spinner {\n",
              "    border: 2px solid var(--fill-color);\n",
              "    border-color: transparent;\n",
              "    border-bottom-color: var(--fill-color);\n",
              "    animation:\n",
              "      spin 1s steps(1) infinite;\n",
              "  }\n",
              "\n",
              "  @keyframes spin {\n",
              "    0% {\n",
              "      border-color: transparent;\n",
              "      border-bottom-color: var(--fill-color);\n",
              "      border-left-color: var(--fill-color);\n",
              "    }\n",
              "    20% {\n",
              "      border-color: transparent;\n",
              "      border-left-color: var(--fill-color);\n",
              "      border-top-color: var(--fill-color);\n",
              "    }\n",
              "    30% {\n",
              "      border-color: transparent;\n",
              "      border-left-color: var(--fill-color);\n",
              "      border-top-color: var(--fill-color);\n",
              "      border-right-color: var(--fill-color);\n",
              "    }\n",
              "    40% {\n",
              "      border-color: transparent;\n",
              "      border-right-color: var(--fill-color);\n",
              "      border-top-color: var(--fill-color);\n",
              "    }\n",
              "    60% {\n",
              "      border-color: transparent;\n",
              "      border-right-color: var(--fill-color);\n",
              "    }\n",
              "    80% {\n",
              "      border-color: transparent;\n",
              "      border-right-color: var(--fill-color);\n",
              "      border-bottom-color: var(--fill-color);\n",
              "    }\n",
              "    90% {\n",
              "      border-color: transparent;\n",
              "      border-bottom-color: var(--fill-color);\n",
              "    }\n",
              "  }\n",
              "</style>\n",
              "\n",
              "  <script>\n",
              "    async function quickchart(key) {\n",
              "      const quickchartButtonEl =\n",
              "        document.querySelector('#' + key + ' button');\n",
              "      quickchartButtonEl.disabled = true;  // To prevent multiple clicks.\n",
              "      quickchartButtonEl.classList.add('colab-df-spinner');\n",
              "      try {\n",
              "        const charts = await google.colab.kernel.invokeFunction(\n",
              "            'suggestCharts', [key], {});\n",
              "      } catch (error) {\n",
              "        console.error('Error during call to suggestCharts:', error);\n",
              "      }\n",
              "      quickchartButtonEl.classList.remove('colab-df-spinner');\n",
              "      quickchartButtonEl.classList.add('colab-df-quickchart-complete');\n",
              "    }\n",
              "    (() => {\n",
              "      let quickchartButtonEl =\n",
              "        document.querySelector('#df-dc9b6de5-8930-40fb-9db5-d2f65a8bca07 button');\n",
              "      quickchartButtonEl.style.display =\n",
              "        google.colab.kernel.accessAllowed ? 'block' : 'none';\n",
              "    })();\n",
              "  </script>\n",
              "</div>\n",
              "    </div>\n",
              "  </div>\n"
            ]
          },
          "metadata": {},
          "execution_count": 236
        }
      ]
    },
    {
      "cell_type": "code",
      "source": [
        "ccd  = ccd.merge(truck_traffic_ccd, left_on=\"CCD\", right_on=\"Destination Zone Name\")"
      ],
      "metadata": {
        "id": "I82zM5PhgjQI"
      },
      "execution_count": 237,
      "outputs": []
    },
    {
      "cell_type": "code",
      "source": [
        "ccd.plot(x=\"POP_20\",y=\"Average Daily O-D Traffic (StL Index)\", kind=\"scatter\")"
      ],
      "metadata": {
        "colab": {
          "base_uri": "https://localhost:8080/",
          "height": 466
        },
        "id": "tW1MLECGkHNx",
        "outputId": "2ad4b7e4-3573-41a8-ba9a-36f1cb13c86f"
      },
      "execution_count": 238,
      "outputs": [
        {
          "output_type": "execute_result",
          "data": {
            "text/plain": [
              "<Axes: xlabel='POP_20', ylabel='Average Daily O-D Traffic (StL Index)'>"
            ]
          },
          "metadata": {},
          "execution_count": 238
        },
        {
          "output_type": "display_data",
          "data": {
            "text/plain": [
              "<Figure size 640x480 with 1 Axes>"
            ],
            "image/png": "[encoded data removed]"
          },
          "metadata": {}
        }
      ]
    },
    {
      "cell_type": "code",
      "source": [
        "ccd.plot(x=\"FIS_capita\",y=\"Average Daily O-D Traffic (StL Index)\", kind=\"scatter\")"
      ],
      "metadata": {
        "colab": {
          "base_uri": "https://localhost:8080/",
          "height": 467
        },
        "id": "lBYXBhy68_8R",
        "outputId": "d3c7916b-248f-489c-9a65-1868926e2b11"
      },
      "execution_count": 239,
      "outputs": [
        {
          "output_type": "execute_result",
          "data": {
            "text/plain": [
              "<Axes: xlabel='FIS_capita', ylabel='Average Daily O-D Traffic (StL Index)'>"
            ]
          },
          "metadata": {},
          "execution_count": 239
        },
        {
          "output_type": "display_data",
          "data": {
            "text/plain": [
              "<Figure size 640x480 with 1 Axes>"
            ],
            "image/png": "[encoded data removed]"
          },
          "metadata": {}
        }
      ]
    },
    {
      "cell_type": "code",
      "source": [
        "ccd.columns"
      ],
      "metadata": {
        "colab": {
          "base_uri": "https://localhost:8080/"
        },
        "id": "EUpKTpdj9PD7",
        "outputId": "a5fca40c-010a-44ce-e084-637191c92dad"
      },
      "execution_count": 240,
      "outputs": [
        {
          "output_type": "execute_result",
          "data": {
            "text/plain": [
              "Index(['NAME', 'geometry', 'CCD', 'POP_20', 'TOT_Units_', 'Occ_HH_20',\n",
              "       'Vacant_20', 'Tot_GC_20', 'TOT_Inst_2', 'TOT_nonins', 'NATRES_20',\n",
              "       'CONS_20', 'MANU_20', 'WHL_RET_20', 'TRN_UTL_20', 'INFO_20',\n",
              "       'FINANCE_20', 'PRO_BUS_20', 'ED_HEALTH_', 'LE_HOSP_20', 'OT_SVCS_20',\n",
              "       'PUBADM_20', 'FOOD_SVC_2', 'FIS_20', 'TOT_20', 'EMP_19', 'Adj_EMP_20',\n",
              "       'FIS', 'SIS', 'FIS_per', 'FIS_capita', 'Destination Zone Name',\n",
              "       'Average Daily O-D Traffic (StL Index)'],\n",
              "      dtype='object')"
            ]
          },
          "metadata": {},
          "execution_count": 240
        }
      ]
    },
    {
      "cell_type": "code",
      "source": [
        "gpd.overlay(CFC, ccd, how=\"intersection\").length\n",
        "gpd.overlay(PiedmontCorridor, ccd, how=\"intersection\").length\n",
        "gpd.overlay(CoastalCorridor, ccd, how=\"intersection\").length\n",
        "gpd.overlay(MetroCorridor, ccd, how=\"intersection\").length\n",
        "gpd.overlay(LewesCorridor, ccd, how=\"intersection\").length\n",
        "gpd.overlay(BayCorridor, ccd, how=\"intersection\").length"
      ],
      "metadata": {
        "colab": {
          "base_uri": "https://localhost:8080/"
        },
        "id": "V4bGPQ4-8xC7",
        "outputId": "1a2ee69f-b631-45a4-e756-14490d85977f"
      },
      "execution_count": 241,
      "outputs": [
        {
          "output_type": "execute_result",
          "data": {
            "text/plain": [
              "0    59204.299611\n",
              "1    24259.128666\n",
              "dtype: float64"
            ]
          },
          "metadata": {},
          "execution_count": 241
        }
      ]
    },
    {
      "cell_type": "code",
      "source": [
        "CFC_ccd = gpd.overlay(CFC, ccd, how=\"intersection\")\n",
        "CFC_ccd[\"length_CFC\"] = CFC_ccd.length\n",
        "CFC_ccd = CFC_ccd.groupby(\"NAME\").sum(numeric_only=True).reset_index()[[\"NAME\",\"length_CFC\"]]"
      ],
      "metadata": {
        "id": "wx2oWlzeVDsi"
      },
      "execution_count": 242,
      "outputs": []
    },
    {
      "cell_type": "code",
      "source": [
        "PiedmontCorridor_ccd = gpd.overlay(PiedmontCorridor, ccd, how=\"intersection\", keep_geom_type=True)\n",
        "PiedmontCorridor_ccd[\"length_Piedmont\"] = PiedmontCorridor_ccd.length\n",
        "PiedmontCorridor_ccd = PiedmontCorridor_ccd.groupby(\"NAME\").sum(numeric_only=True).reset_index()[[\"NAME\",\"length_Piedmont\"]]"
      ],
      "metadata": {
        "id": "yHaQ3Su8CMgc"
      },
      "execution_count": 243,
      "outputs": []
    },
    {
      "cell_type": "code",
      "source": [
        "CoastalCorridor_ccd = gpd.overlay(CoastalCorridor, ccd, how=\"intersection\", keep_geom_type=True)\n",
        "CoastalCorridor_ccd[\"length_Coastal\"] = CoastalCorridor_ccd.length\n",
        "CoastalCorridor_ccd = CoastalCorridor_ccd.groupby(\"NAME\").sum(numeric_only=True).reset_index()[[\"NAME\",\"length_Coastal\"]]"
      ],
      "metadata": {
        "id": "gYRrpy99UjnP"
      },
      "execution_count": 244,
      "outputs": []
    },
    {
      "cell_type": "code",
      "source": [
        "MetroCorridor_ccd = gpd.overlay(MetroCorridor, ccd, how=\"intersection\", keep_geom_type=True)\n",
        "MetroCorridor_ccd[\"length_Metro\"] = MetroCorridor_ccd.length\n",
        "MetroCorridor_ccd = MetroCorridor_ccd.groupby(\"NAME\").sum(numeric_only=True).reset_index()[[\"NAME\",\"length_Metro\"]]"
      ],
      "metadata": {
        "id": "XHXUhnexf46w"
      },
      "execution_count": 245,
      "outputs": []
    },
    {
      "cell_type": "code",
      "source": [
        "LewesCorridor_ccd = gpd.overlay(LewesCorridor, ccd, how=\"intersection\", keep_geom_type=True)\n",
        "LewesCorridor_ccd[\"length_Lewes\"] = LewesCorridor_ccd.length\n",
        "LewesCorridor_ccd = LewesCorridor_ccd.groupby(\"NAME\").sum(numeric_only=True).reset_index()[[\"NAME\",\"length_Lewes\"]]"
      ],
      "metadata": {
        "id": "BJUNVGr0f_3i"
      },
      "execution_count": 246,
      "outputs": []
    },
    {
      "cell_type": "code",
      "source": [
        "BayCorridor_ccd = gpd.overlay(BayCorridor, ccd, how=\"intersection\", keep_geom_type=True)\n",
        "BayCorridor_ccd[\"length_Bay\"] = BayCorridor_ccd.length\n",
        "BayCorridor_ccd = BayCorridor_ccd.groupby(\"NAME\").sum(numeric_only=True).reset_index()[[\"NAME\",\"length_Bay\"]]"
      ],
      "metadata": {
        "id": "taozj3PBgHjT"
      },
      "execution_count": 247,
      "outputs": []
    },
    {
      "cell_type": "code",
      "source": [
        "ccd = ccd.merge(CFC_ccd, left_on=\"CCD\", right_on=\"NAME\", how=\"outer\")\n",
        "ccd = ccd.merge(PiedmontCorridor_ccd, left_on=\"CCD\", right_on=\"NAME\", how=\"outer\")\n",
        "ccd = ccd.merge(CoastalCorridor_ccd, left_on=\"CCD\", right_on=\"NAME\", how=\"outer\")\n",
        "ccd = ccd.merge(MetroCorridor_ccd, left_on=\"CCD\", right_on=\"NAME\", how=\"outer\")\n",
        "ccd = ccd.merge(LewesCorridor_ccd, left_on=\"CCD\", right_on=\"NAME\", how=\"outer\")\n",
        "ccd = ccd.merge(BayCorridor_ccd, left_on=\"CCD\", right_on=\"NAME\", how=\"outer\").fillna(0)"
      ],
      "metadata": {
        "colab": {
          "base_uri": "https://localhost:8080/"
        },
        "id": "VOV_7f-3Uu2b",
        "outputId": "92c7fea2-be3c-42b2-8bc5-48d158b8cf70"
      },
      "execution_count": 248,
      "outputs": [
        {
          "output_type": "stream",
          "name": "stderr",
          "text": [
            "/usr/local/lib/python3.10/dist-packages/geopandas/geodataframe.py:1569: FutureWarning: Passing 'suffixes' which cause duplicate columns {'NAME_x'} in the result is deprecated and will raise a MergeError in a future version.\n",
            "  result = DataFrame.merge(self, *args, **kwargs)\n",
            "/usr/local/lib/python3.10/dist-packages/geopandas/geodataframe.py:1569: FutureWarning: Passing 'suffixes' which cause duplicate columns {'NAME_x'} in the result is deprecated and will raise a MergeError in a future version.\n",
            "  result = DataFrame.merge(self, *args, **kwargs)\n"
          ]
        }
      ]
    },
    {
      "cell_type": "code",
      "source": [
        "ccd[\"freight_length\"] = ccd[\"length_CFC\"] + ccd[\"length_Piedmont\"] + ccd[\"length_Coastal\"] + ccd[\"length_Metro\"] + ccd[\"length_Lewes\"] + ccd[\"length_Bay\"]"
      ],
      "metadata": {
        "id": "EZyRlqEPukx8"
      },
      "execution_count": 249,
      "outputs": []
    },
    {
      "cell_type": "code",
      "source": [
        "ccd = ccd.drop(columns=[\"NAME\", \"NAME_x\", \"NAME_y\"])"
      ],
      "metadata": {
        "id": "u9qt-SL4ulRS"
      },
      "execution_count": 262,
      "outputs": []
    },
    {
      "cell_type": "code",
      "source": [
        "rail_ccd = gpd.overlay(rail, ccd, how=\"intersection\", keep_geom_type=True)\n",
        "rail_ccd[\"rail_length\"] = rail_ccd.length\n",
        "rail_ccd = rail_ccd.groupby(\"CCD\").sum(numeric_only=True).reset_index()[[\"CCD\",\"rail_length\"]]"
      ],
      "metadata": {
        "id": "1DuRzLfOE0ML"
      },
      "execution_count": 270,
      "outputs": []
    },
    {
      "cell_type": "code",
      "source": [
        "rail_ccd"
      ],
      "metadata": {
        "id": "GlDdge-4ISE4",
        "outputId": "2ced64a2-934b-466e-ac6f-6ed8f3d0574e",
        "colab": {
          "base_uri": "https://localhost:8080/",
          "height": 394
        }
      },
      "execution_count": 271,
      "outputs": [
        {
          "output_type": "execute_result",
          "data": {
            "text/plain": [
              "                            CCD    rail_length\n",
              "0                    Brandywine  265792.853858\n",
              "1                       Glasgow  102450.739087\n",
              "2              Lower Christiana  276297.594694\n",
              "3             Middletown-Odessa  131529.108594\n",
              "4                    New Castle  140201.774798\n",
              "5                        Newark  222102.761689\n",
              "6                      Piedmont   86171.673787\n",
              "7   Pike Creek-Central Kirkwood   16763.727469\n",
              "8                      Red Lion  161161.797876\n",
              "9              Upper Christiana   61565.900368\n",
              "10                   Wilmington  252825.707539"
            ],
            "text/html": [
              "\n",
              "  <div id=\"df-b9d05897-124e-498e-b4ca-bb7bf5bbcf07\" class=\"colab-df-container\">\n",
              "    <div>\n",
              "<style scoped>\n",
              "    .dataframe tbody tr th:only-of-type {\n",
              "        vertical-align: middle;\n",
              "    }\n",
              "\n",
              "    .dataframe tbody tr th {\n",
              "        vertical-align: top;\n",
              "    }\n",
              "\n",
              "    .dataframe thead th {\n",
              "        text-align: right;\n",
              "    }\n",
              "</style>\n",
              "<table border=\"1\" class=\"dataframe\">\n",
              "  <thead>\n",
              "    <tr style=\"text-align: right;\">\n",
              "      <th></th>\n",
              "      <th>CCD</th>\n",
              "      <th>rail_length</th>\n",
              "    </tr>\n",
              "  </thead>\n",
              "  <tbody>\n",
              "    <tr>\n",
              "      <th>0</th>\n",
              "      <td>Brandywine</td>\n",
              "      <td>265792.853858</td>\n",
              "    </tr>\n",
              "    <tr>\n",
              "      <th>1</th>\n",
              "      <td>Glasgow</td>\n",
              "      <td>102450.739087</td>\n",
              "    </tr>\n",
              "    <tr>\n",
              "      <th>2</th>\n",
              "      <td>Lower Christiana</td>\n",
              "      <td>276297.594694</td>\n",
              "    </tr>\n",
              "    <tr>\n",
              "      <th>3</th>\n",
              "      <td>Middletown-Odessa</td>\n",
              "      <td>131529.108594</td>\n",
              "    </tr>\n",
              "    <tr>\n",
              "      <th>4</th>\n",
              "      <td>New Castle</td>\n",
              "      <td>140201.774798</td>\n",
              "    </tr>\n",
              "    <tr>\n",
              "      <th>5</th>\n",
              "      <td>Newark</td>\n",
              "      <td>222102.761689</td>\n",
              "    </tr>\n",
              "    <tr>\n",
              "      <th>6</th>\n",
              "      <td>Piedmont</td>\n",
              "      <td>86171.673787</td>\n",
              "    </tr>\n",
              "    <tr>\n",
              "      <th>7</th>\n",
              "      <td>Pike Creek-Central Kirkwood</td>\n",
              "      <td>16763.727469</td>\n",
              "    </tr>\n",
              "    <tr>\n",
              "      <th>8</th>\n",
              "      <td>Red Lion</td>\n",
              "      <td>161161.797876</td>\n",
              "    </tr>\n",
              "    <tr>\n",
              "      <th>9</th>\n",
              "      <td>Upper Christiana</td>\n",
              "      <td>61565.900368</td>\n",
              "    </tr>\n",
              "    <tr>\n",
              "      <th>10</th>\n",
              "      <td>Wilmington</td>\n",
              "      <td>252825.707539</td>\n",
              "    </tr>\n",
              "  </tbody>\n",
              "</table>\n",
              "</div>\n",
              "    <div class=\"colab-df-buttons\">\n",
              "\n",
              "  <div class=\"colab-df-container\">\n",
              "    <button class=\"colab-df-convert\" onclick=\"convertToInteractive('df-b9d05897-124e-498e-b4ca-bb7bf5bbcf07')\"\n",
              "            title=\"Convert this dataframe to an interactive table.\"\n",
              "            style=\"display:none;\">\n",
              "\n",
              "  <svg xmlns=\"http://www.w3.org/2000/svg\" height=\"24px\" viewBox=\"0 -960 960 960\">\n",
              "    <path d=\"M120-120v-720h720v720H120Zm60-500h600v-160H180v160Zm220 220h160v-160H400v160Zm0 220h160v-160H400v160ZM180-400h160v-160H180v160Zm440 0h160v-160H620v160ZM180-180h160v-160H180v160Zm440 0h160v-160H620v160Z\"/>\n",
              "  </svg>\n",
              "    </button>\n",
              "\n",
              "  <style>\n",
              "    .colab-df-container {\n",
              "      display:flex;\n",
              "      gap: 12px;\n",
              "    }\n",
              "\n",
              "    .colab-df-convert {\n",
              "      background-color: #E8F0FE;\n",
              "      border: none;\n",
              "      border-radius: 50%;\n",
              "      cursor: pointer;\n",
              "      display: none;\n",
              "      fill: #1967D2;\n",
              "      height: 32px;\n",
              "      padding: 0 0 0 0;\n",
              "      width: 32px;\n",
              "    }\n",
              "\n",
              "    .colab-df-convert:hover {\n",
              "      background-color: #E2EBFA;\n",
              "      box-shadow: 0px 1px 2px rgba(60, 64, 67, 0.3), 0px 1px 3px 1px rgba(60, 64, 67, 0.15);\n",
              "      fill: #174EA6;\n",
              "    }\n",
              "\n",
              "    .colab-df-buttons div {\n",
              "      margin-bottom: 4px;\n",
              "    }\n",
              "\n",
              "    [theme=dark] .colab-df-convert {\n",
              "      background-color: #3B4455;\n",
              "      fill: #D2E3FC;\n",
              "    }\n",
              "\n",
              "    [theme=dark] .colab-df-convert:hover {\n",
              "      background-color: #434B5C;\n",
              "      box-shadow: 0px 1px 3px 1px rgba(0, 0, 0, 0.15);\n",
              "      filter: drop-shadow(0px 1px 2px rgba(0, 0, 0, 0.3));\n",
              "      fill: #FFFFFF;\n",
              "    }\n",
              "  </style>\n",
              "\n",
              "    <script>\n",
              "      const buttonEl =\n",
              "        document.querySelector('#df-b9d05897-124e-498e-b4ca-bb7bf5bbcf07 button.colab-df-convert');\n",
              "      buttonEl.style.display =\n",
              "        google.colab.kernel.accessAllowed ? 'block' : 'none';\n",
              "\n",
              "      async function convertToInteractive(key) {\n",
              "        const element = document.querySelector('#df-b9d05897-124e-498e-b4ca-bb7bf5bbcf07');\n",
              "        const dataTable =\n",
              "          await google.colab.kernel.invokeFunction('convertToInteractive',\n",
              "                                                    [key], {});\n",
              "        if (!dataTable) return;\n",
              "\n",
              "        const docLinkHtml = 'Like what you see? Visit the ' +\n",
              "          '<a target=\"_blank\" href=https://colab.research.google.com/notebooks/data_table.ipynb>data table notebook</a>'\n",
              "          + ' to learn more about interactive tables.';\n",
              "        element.innerHTML = '';\n",
              "        dataTable['output_type'] = 'display_data';\n",
              "        await google.colab.output.renderOutput(dataTable, element);\n",
              "        const docLink = document.createElement('div');\n",
              "        docLink.innerHTML = docLinkHtml;\n",
              "        element.appendChild(docLink);\n",
              "      }\n",
              "    </script>\n",
              "  </div>\n",
              "\n",
              "\n",
              "<div id=\"df-54ce8191-db28-4351-a901-052fa5adb5d8\">\n",
              "  <button class=\"colab-df-quickchart\" onclick=\"quickchart('df-54ce8191-db28-4351-a901-052fa5adb5d8')\"\n",
              "            title=\"Suggest charts\"\n",
              "            style=\"display:none;\">\n",
              "\n",
              "<svg xmlns=\"http://www.w3.org/2000/svg\" height=\"24px\"viewBox=\"0 0 24 24\"\n",
              "     width=\"24px\">\n",
              "    <g>\n",
              "        <path d=\"M19 3H5c-1.1 0-2 .9-2 2v14c0 1.1.9 2 2 2h14c1.1 0 2-.9 2-2V5c0-1.1-.9-2-2-2zM9 17H7v-7h2v7zm4 0h-2V7h2v10zm4 0h-2v-4h2v4z\"/>\n",
              "    </g>\n",
              "</svg>\n",
              "  </button>\n",
              "\n",
              "<style>\n",
              "  .colab-df-quickchart {\n",
              "      --bg-color: #E8F0FE;\n",
              "      --fill-color: #1967D2;\n",
              "      --hover-bg-color: #E2EBFA;\n",
              "      --hover-fill-color: #174EA6;\n",
              "      --disabled-fill-color: #AAA;\n",
              "      --disabled-bg-color: #DDD;\n",
              "  }\n",
              "\n",
              "  [theme=dark] .colab-df-quickchart {\n",
              "      --bg-color: #3B4455;\n",
              "      --fill-color: #D2E3FC;\n",
              "      --hover-bg-color: #434B5C;\n",
              "      --hover-fill-color: #FFFFFF;\n",
              "      --disabled-bg-color: #3B4455;\n",
              "      --disabled-fill-color: #666;\n",
              "  }\n",
              "\n",
              "  .colab-df-quickchart {\n",
              "    background-color: var(--bg-color);\n",
              "    border: none;\n",
              "    border-radius: 50%;\n",
              "    cursor: pointer;\n",
              "    display: none;\n",
              "    fill: var(--fill-color);\n",
              "    height: 32px;\n",
              "    padding: 0;\n",
              "    width: 32px;\n",
              "  }\n",
              "\n",
              "  .colab-df-quickchart:hover {\n",
              "    background-color: var(--hover-bg-color);\n",
              "    box-shadow: 0 1px 2px rgba(60, 64, 67, 0.3), 0 1px 3px 1px rgba(60, 64, 67, 0.15);\n",
              "    fill: var(--button-hover-fill-color);\n",
              "  }\n",
              "\n",
              "  .colab-df-quickchart-complete:disabled,\n",
              "  .colab-df-quickchart-complete:disabled:hover {\n",
              "    background-color: var(--disabled-bg-color);\n",
              "    fill: var(--disabled-fill-color);\n",
              "    box-shadow: none;\n",
              "  }\n",
              "\n",
              "  .colab-df-spinner {\n",
              "    border: 2px solid var(--fill-color);\n",
              "    border-color: transparent;\n",
              "    border-bottom-color: var(--fill-color);\n",
              "    animation:\n",
              "      spin 1s steps(1) infinite;\n",
              "  }\n",
              "\n",
              "  @keyframes spin {\n",
              "    0% {\n",
              "      border-color: transparent;\n",
              "      border-bottom-color: var(--fill-color);\n",
              "      border-left-color: var(--fill-color);\n",
              "    }\n",
              "    20% {\n",
              "      border-color: transparent;\n",
              "      border-left-color: var(--fill-color);\n",
              "      border-top-color: var(--fill-color);\n",
              "    }\n",
              "    30% {\n",
              "      border-color: transparent;\n",
              "      border-left-color: var(--fill-color);\n",
              "      border-top-color: var(--fill-color);\n",
              "      border-right-color: var(--fill-color);\n",
              "    }\n",
              "    40% {\n",
              "      border-color: transparent;\n",
              "      border-right-color: var(--fill-color);\n",
              "      border-top-color: var(--fill-color);\n",
              "    }\n",
              "    60% {\n",
              "      border-color: transparent;\n",
              "      border-right-color: var(--fill-color);\n",
              "    }\n",
              "    80% {\n",
              "      border-color: transparent;\n",
              "      border-right-color: var(--fill-color);\n",
              "      border-bottom-color: var(--fill-color);\n",
              "    }\n",
              "    90% {\n",
              "      border-color: transparent;\n",
              "      border-bottom-color: var(--fill-color);\n",
              "    }\n",
              "  }\n",
              "</style>\n",
              "\n",
              "  <script>\n",
              "    async function quickchart(key) {\n",
              "      const quickchartButtonEl =\n",
              "        document.querySelector('#' + key + ' button');\n",
              "      quickchartButtonEl.disabled = true;  // To prevent multiple clicks.\n",
              "      quickchartButtonEl.classList.add('colab-df-spinner');\n",
              "      try {\n",
              "        const charts = await google.colab.kernel.invokeFunction(\n",
              "            'suggestCharts', [key], {});\n",
              "      } catch (error) {\n",
              "        console.error('Error during call to suggestCharts:', error);\n",
              "      }\n",
              "      quickchartButtonEl.classList.remove('colab-df-spinner');\n",
              "      quickchartButtonEl.classList.add('colab-df-quickchart-complete');\n",
              "    }\n",
              "    (() => {\n",
              "      let quickchartButtonEl =\n",
              "        document.querySelector('#df-54ce8191-db28-4351-a901-052fa5adb5d8 button');\n",
              "      quickchartButtonEl.style.display =\n",
              "        google.colab.kernel.accessAllowed ? 'block' : 'none';\n",
              "    })();\n",
              "  </script>\n",
              "</div>\n",
              "    </div>\n",
              "  </div>\n"
            ]
          },
          "metadata": {},
          "execution_count": 271
        }
      ]
    },
    {
      "cell_type": "code",
      "source": [
        "ccd = ccd.merge(rail_ccd, left_on=\"CCD\", right_on=\"CCD\", how=\"outer\").fillna(0)"
      ],
      "metadata": {
        "id": "GkiPr3x5Gol7"
      },
      "execution_count": 268,
      "outputs": []
    }
  ]
}