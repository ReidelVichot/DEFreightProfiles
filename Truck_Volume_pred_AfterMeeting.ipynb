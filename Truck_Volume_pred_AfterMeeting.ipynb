{
  "nbformat": 4,
  "nbformat_minor": 0,
  "metadata": {
    "colab": {
      "provenance": [],
      "include_colab_link": true
    },
    "kernelspec": {
      "name": "python3",
      "display_name": "Python 3"
    },
    "language_info": {
      "name": "python"
    }
  },
  "cells": [
    {
      "cell_type": "markdown",
      "metadata": {
        "id": "view-in-github",
        "colab_type": "text"
      },
      "source": [
        "<a href=\"https://colab.research.google.com/github/ReidelVichot/DEFreightProfiles/blob/main/Truck_Volume_pred_AfterMeeting.ipynb\" target=\"_parent\"><img src=\"https://colab.research.google.com/assets/colab-badge.svg\" alt=\"Open In Colab\"/></a>"
      ]
    },
    {
      "cell_type": "code",
      "execution_count": 91,
      "metadata": {
        "id": "7EXXKzeVCcVE"
      },
      "outputs": [],
      "source": [
        "import numpy as np\n",
        "import pandas as pd\n",
        "import matplotlib.pyplot as plt\n",
        "import geopandas as gpd"
      ]
    },
    {
      "cell_type": "code",
      "source": [
        "from google.colab import drive\n",
        "drive.mount('/content/drive')"
      ],
      "metadata": {
        "colab": {
          "base_uri": "https://localhost:8080/"
        },
        "id": "cfLhMbazCy5I",
        "outputId": "b72b6926-8b68-420c-f57c-37308dfca2f6"
      },
      "execution_count": 92,
      "outputs": [
        {
          "output_type": "stream",
          "name": "stdout",
          "text": [
            "Drive already mounted at /content/drive; to attempt to forcibly remount, call drive.mount(\"/content/drive\", force_remount=True).\n"
          ]
        }
      ]
    },
    {
      "cell_type": "code",
      "source": [
        "# Import CCD from google drive Source: Census\n",
        "ccd_name = \"/content/drive/My Drive/FreightProfiles/tl_rd22_10_cousub (1)/tl_rd22_10_cousub.shp\"\n",
        "ccd =  gpd.read_file(ccd_name)\n",
        "ccd = ccd.to_crs(\"EPSG:2235\")\n",
        "# Import tracks from google drive\n",
        "# Source: Fist Maps\n",
        "# https://de-firstmap-delaware.hub.arcgis.com/datasets/railroad-rail-lines/explore?location=39.655622%2C-75.765561%2C13.56\n",
        "rail_name = \"/content/drive/MyDrive/FreightProfiles/Delaware_Multimodal_2.0_tracks/Delaware_Multimodal_2.0.shp\"\n",
        "rail = gpd.read_file(rail_name)\n",
        "rail = rail.to_crs(\"EPSG:2235\")\n",
        "cols = ['NAME','geometry']\n",
        "ccd = ccd[cols]\n",
        "cols = ['TRACK_TYPE', 'STATUS', 'LINE_ID', 'OWNER', 'geometry']\n",
        "rail = rail[cols]"
      ],
      "metadata": {
        "id": "2iQBifB7C_M6"
      },
      "execution_count": 93,
      "outputs": []
    },
    {
      "cell_type": "code",
      "source": [
        "taz_name = \"/content/drive/MyDrive/temp_dstep23/TAZ_analysis/DE_TAZ_2021_TRKGEN_region.shp\"\n",
        "taz = gpd.read_file(taz_name)\n",
        "taz = taz.to_crs(\"EPSG:2235\")"
      ],
      "metadata": {
        "id": "-gOWa0bMs_9f"
      },
      "execution_count": 94,
      "outputs": []
    },
    {
      "cell_type": "code",
      "source": [
        "taz[\"FIS\"] = taz['TRN_UTL_20'] + taz['LE_HOSP_20'] + taz['CONS_20'] + taz['MANU_20']\n",
        "taz[\"SIS\"] = taz['OT_SVCS_20'] + taz['ED_HEALTH_'] + taz['FINANCE_20'] + taz['PRO_BUS_20'] + taz['LE_HOSP_20'] + taz['INFO_20']\n",
        "taz[\"FIS_per\"] = taz[\"FIS\"]/taz['TOT_20']*100\n",
        "taz_grpd = taz.groupby(\"CCD\").sum(numeric_only = True)\n",
        "taz_grpd[\"FIS_per\"] = taz_grpd[\"FIS\"]/taz_grpd[\"TOT_20\"]*100\n",
        "taz_grpd[\"FIS_capita\"] = taz_grpd[\"FIS\"]/taz_grpd[\"POP_20\"]\n",
        "taz_grpd.reset_index(inplace=True)\n",
        "taz_grpd.at[ 9, \"CCD\"] = \"Lower Christiana\"\n",
        "taz_grpd.at[25, \"CCD\"] = \"Upper Christiana\"\n",
        "taz_grpd.at[12, \"CCD\"] = \"Middletown-Odessa\"\n",
        "taz_grpd.at[20, \"CCD\"] = \"Pike Creek-Central Kirkwood\"\n",
        "ccd = ccd.merge(taz_grpd, left_on=\"NAME\", right_on=\"CCD\")"
      ],
      "metadata": {
        "id": "6_36wA6C3yrQ"
      },
      "execution_count": 95,
      "outputs": []
    },
    {
      "cell_type": "code",
      "source": [
        "CFC = gpd.read_file(\"/content/drive/MyDrive/FreightProfiles/Delaware_Freight_Corridors_-_FAST_Act_Critical_2.0 (1)/Delaware_Freight_Corridors_-_FAST_Act_Critical_2.0.shp\")\n",
        "CFC = CFC.to_crs(\"EPSG:2235\")"
      ],
      "metadata": {
        "id": "56Q97PIgcR-P"
      },
      "execution_count": 96,
      "outputs": []
    },
    {
      "cell_type": "code",
      "source": [
        "CFC['FREIGHT_NE'].unique()"
      ],
      "metadata": {
        "colab": {
          "base_uri": "https://localhost:8080/"
        },
        "id": "yHVkPL23aTBY",
        "outputId": "c57a2291-c55c-4eff-d692-eb57c681b14b"
      },
      "execution_count": 97,
      "outputs": [
        {
          "output_type": "execute_result",
          "data": {
            "text/plain": [
              "array(['CUFC', 'CRFC', 'PFN'], dtype=object)"
            ]
          },
          "metadata": {},
          "execution_count": 97
        }
      ]
    },
    {
      "cell_type": "code",
      "source": [
        "CoastalCorridor = gpd.read_file(\"/content/drive/MyDrive/FreightProfiles/CoastalCorridor/Delaware_Multimodal_2.0.shp\")\n",
        "CoastalCorridor = CoastalCorridor.to_crs(\"EPSG:2235\")\n",
        "\n",
        "MetroCorridor = gpd.read_file(\"/content/drive/MyDrive/FreightProfiles/MetroCorridor/Delaware_Multimodal_2.0.shp\")\n",
        "MetroCorridor = MetroCorridor.to_crs(\"EPSG:2235\")\n",
        "\n",
        "LewesCorridor = gpd.read_file(\"/content/drive/MyDrive/FreightProfiles/LewesCorridor/Delaware_Multimodal_2.0.shp\")\n",
        "LewesCorridor = LewesCorridor.to_crs(\"EPSG:2235\")\n",
        "\n",
        "BayCorridor = gpd.read_file(\"/content/drive/MyDrive/FreightProfiles/BayCorridor/Delaware_Multimodal_2.0.shp\")\n",
        "BayCorridor = BayCorridor.to_crs(\"EPSG:2235\")\n",
        "\n",
        "PiedmontCorridor = gpd.read_file(\"/content/drive/MyDrive/FreightProfiles/PiedmontCorridor/Delaware_Multimodal_2.0.shp\")\n",
        "PiedmontCorridor = PiedmontCorridor.to_crs(\"EPSG:2235\")"
      ],
      "metadata": {
        "id": "zKuUx15UHvmr"
      },
      "execution_count": 98,
      "outputs": []
    },
    {
      "cell_type": "code",
      "source": [
        "truck_traffic = pd.read_csv(\"/content/drive/MyDrive/FreightProfiles/StreetLight/1669875_All_CCDsAvailable_trucks_2020/1669875_All_CCDsAvailable_trucks_2020/1669875_All_CCDsAvailable_trucks_2020_odg_comm.csv\")"
      ],
      "metadata": {
        "id": "MVxn692Ucq_T"
      },
      "execution_count": 99,
      "outputs": []
    },
    {
      "cell_type": "code",
      "source": [
        "cols = ['Vehicle Weight', 'Origin Zone ID', 'Origin Zone Name',\n",
        "        'Origin Zone Source', 'Destination Zone ID', 'Destination Zone Name',\n",
        "        'Destination Zone Source', 'Day Type', 'Day Part',\n",
        "        'Average Daily O-D Traffic (StL Index)',\n",
        "        'Average Daily Origin Zone Traffic (StL Index)',\n",
        "       'Average Daily Destination Zone Traffic (StL Index)',\n",
        "       'Avg Travel Time (sec)']"
      ],
      "metadata": {
        "id": "vGwCYwM6gmxq"
      },
      "execution_count": 100,
      "outputs": []
    },
    {
      "cell_type": "code",
      "source": [
        "truck_traffic = truck_traffic[cols]"
      ],
      "metadata": {
        "id": "5IUdj-KwgVW4"
      },
      "execution_count": 101,
      "outputs": []
    },
    {
      "cell_type": "code",
      "source": [
        "ccd[\"NAME\"].values"
      ],
      "metadata": {
        "colab": {
          "base_uri": "https://localhost:8080/"
        },
        "id": "YDAFSZP30Uam",
        "outputId": "6aa054b2-3486-4b28-fe62-e996ca14621b"
      },
      "execution_count": 102,
      "outputs": [
        {
          "output_type": "execute_result",
          "data": {
            "text/plain": [
              "array(['Lewes', 'Millsboro', 'Central Kent', 'Smyrna',\n",
              "       'Middletown-Odessa', 'New Castle', 'Pike Creek-Central Kirkwood',\n",
              "       'Wilmington', 'Lower Christiana', 'Piedmont', 'Upper Christiana',\n",
              "       'Georgetown', 'Milford South', 'Seaford', 'Selbyville-Frankford',\n",
              "       'Laurel-Delmar', 'Milton', 'Bridgeville-Greenwood', 'Dover',\n",
              "       'Kenton', 'Felton', 'Milford North', 'Harrington', 'Brandywine',\n",
              "       'Glasgow', 'Red Lion', 'Newark'], dtype=object)"
            ]
          },
          "metadata": {},
          "execution_count": 102
        }
      ]
    },
    {
      "cell_type": "code",
      "source": [
        "truck_traffic2 = truck_traffic[truck_traffic[\"Day Type\"]==\"0: All Days (M-Su)\"][truck_traffic['Day Part']==\"00: All Day (12am-12am)\"].groupby(\"Destination Zone Name\").sum(numeric_only=True).reset_index()"
      ],
      "metadata": {
        "colab": {
          "base_uri": "https://localhost:8080/"
        },
        "id": "8oSQqW6BkWyA",
        "outputId": "d6d741b8-7cd2-4eef-91c8-e66695062c09"
      },
      "execution_count": 103,
      "outputs": [
        {
          "output_type": "stream",
          "name": "stderr",
          "text": [
            "<ipython-input-103-676d64de8ec0>:1: UserWarning: Boolean Series key will be reindexed to match DataFrame index.\n",
            "  truck_traffic2 = truck_traffic[truck_traffic[\"Day Type\"]==\"0: All Days (M-Su)\"][truck_traffic['Day Part']==\"00: All Day (12am-12am)\"].groupby(\"Destination Zone Name\").sum(numeric_only=True).reset_index()\n"
          ]
        }
      ]
    },
    {
      "cell_type": "code",
      "source": [
        "truck_traffic_ccd = truck_traffic2[truck_traffic2[\"Destination Zone Name\"].isin(ccd[\"NAME\"].values)][['Destination Zone Name', 'Average Daily O-D Traffic (StL Index)']]"
      ],
      "metadata": {
        "id": "osPAGq3B0qPe"
      },
      "execution_count": 104,
      "outputs": []
    },
    {
      "cell_type": "code",
      "source": [
        "truck_traffic_ccd"
      ],
      "metadata": {
        "colab": {
          "base_uri": "https://localhost:8080/",
          "height": 394
        },
        "id": "-JKiFGFz4FsJ",
        "outputId": "ad6c9eea-4b4b-429b-bfaa-dd79c2af09ed"
      },
      "execution_count": 105,
      "outputs": [
        {
          "output_type": "execute_result",
          "data": {
            "text/plain": [
              "             Destination Zone Name  Average Daily O-D Traffic (StL Index)\n",
              "14977                   Brandywine                                 124772\n",
              "14978                      Glasgow                                  47339\n",
              "14979             Lower Christiana                                  66621\n",
              "14980            Middletown-Odessa                                  97381\n",
              "14981                   New Castle                                 271318\n",
              "14982                       Newark                                  89553\n",
              "14983                     Piedmont                                  31267\n",
              "14984  Pike Creek-Central Kirkwood                                  33972\n",
              "14985                     Red Lion                                  45248\n",
              "14986             Upper Christiana                                  74421\n",
              "14987                   Wilmington                                 168426"
            ],
            "text/html": [
              "\n",
              "  <div id=\"df-8f1921b5-0982-4123-801c-8fd89e341e32\" class=\"colab-df-container\">\n",
              "    <div>\n",
              "<style scoped>\n",
              "    .dataframe tbody tr th:only-of-type {\n",
              "        vertical-align: middle;\n",
              "    }\n",
              "\n",
              "    .dataframe tbody tr th {\n",
              "        vertical-align: top;\n",
              "    }\n",
              "\n",
              "    .dataframe thead th {\n",
              "        text-align: right;\n",
              "    }\n",
              "</style>\n",
              "<table border=\"1\" class=\"dataframe\">\n",
              "  <thead>\n",
              "    <tr style=\"text-align: right;\">\n",
              "      <th></th>\n",
              "      <th>Destination Zone Name</th>\n",
              "      <th>Average Daily O-D Traffic (StL Index)</th>\n",
              "    </tr>\n",
              "  </thead>\n",
              "  <tbody>\n",
              "    <tr>\n",
              "      <th>14977</th>\n",
              "      <td>Brandywine</td>\n",
              "      <td>124772</td>\n",
              "    </tr>\n",
              "    <tr>\n",
              "      <th>14978</th>\n",
              "      <td>Glasgow</td>\n",
              "      <td>47339</td>\n",
              "    </tr>\n",
              "    <tr>\n",
              "      <th>14979</th>\n",
              "      <td>Lower Christiana</td>\n",
              "      <td>66621</td>\n",
              "    </tr>\n",
              "    <tr>\n",
              "      <th>14980</th>\n",
              "      <td>Middletown-Odessa</td>\n",
              "      <td>97381</td>\n",
              "    </tr>\n",
              "    <tr>\n",
              "      <th>14981</th>\n",
              "      <td>New Castle</td>\n",
              "      <td>271318</td>\n",
              "    </tr>\n",
              "    <tr>\n",
              "      <th>14982</th>\n",
              "      <td>Newark</td>\n",
              "      <td>89553</td>\n",
              "    </tr>\n",
              "    <tr>\n",
              "      <th>14983</th>\n",
              "      <td>Piedmont</td>\n",
              "      <td>31267</td>\n",
              "    </tr>\n",
              "    <tr>\n",
              "      <th>14984</th>\n",
              "      <td>Pike Creek-Central Kirkwood</td>\n",
              "      <td>33972</td>\n",
              "    </tr>\n",
              "    <tr>\n",
              "      <th>14985</th>\n",
              "      <td>Red Lion</td>\n",
              "      <td>45248</td>\n",
              "    </tr>\n",
              "    <tr>\n",
              "      <th>14986</th>\n",
              "      <td>Upper Christiana</td>\n",
              "      <td>74421</td>\n",
              "    </tr>\n",
              "    <tr>\n",
              "      <th>14987</th>\n",
              "      <td>Wilmington</td>\n",
              "      <td>168426</td>\n",
              "    </tr>\n",
              "  </tbody>\n",
              "</table>\n",
              "</div>\n",
              "    <div class=\"colab-df-buttons\">\n",
              "\n",
              "  <div class=\"colab-df-container\">\n",
              "    <button class=\"colab-df-convert\" onclick=\"convertToInteractive('df-8f1921b5-0982-4123-801c-8fd89e341e32')\"\n",
              "            title=\"Convert this dataframe to an interactive table.\"\n",
              "            style=\"display:none;\">\n",
              "\n",
              "  <svg xmlns=\"http://www.w3.org/2000/svg\" height=\"24px\" viewBox=\"0 -960 960 960\">\n",
              "    <path d=\"M120-120v-720h720v720H120Zm60-500h600v-160H180v160Zm220 220h160v-160H400v160Zm0 220h160v-160H400v160ZM180-400h160v-160H180v160Zm440 0h160v-160H620v160ZM180-180h160v-160H180v160Zm440 0h160v-160H620v160Z\"/>\n",
              "  </svg>\n",
              "    </button>\n",
              "\n",
              "  <style>\n",
              "    .colab-df-container {\n",
              "      display:flex;\n",
              "      gap: 12px;\n",
              "    }\n",
              "\n",
              "    .colab-df-convert {\n",
              "      background-color: #E8F0FE;\n",
              "      border: none;\n",
              "      border-radius: 50%;\n",
              "      cursor: pointer;\n",
              "      display: none;\n",
              "      fill: #1967D2;\n",
              "      height: 32px;\n",
              "      padding: 0 0 0 0;\n",
              "      width: 32px;\n",
              "    }\n",
              "\n",
              "    .colab-df-convert:hover {\n",
              "      background-color: #E2EBFA;\n",
              "      box-shadow: 0px 1px 2px rgba(60, 64, 67, 0.3), 0px 1px 3px 1px rgba(60, 64, 67, 0.15);\n",
              "      fill: #174EA6;\n",
              "    }\n",
              "\n",
              "    .colab-df-buttons div {\n",
              "      margin-bottom: 4px;\n",
              "    }\n",
              "\n",
              "    [theme=dark] .colab-df-convert {\n",
              "      background-color: #3B4455;\n",
              "      fill: #D2E3FC;\n",
              "    }\n",
              "\n",
              "    [theme=dark] .colab-df-convert:hover {\n",
              "      background-color: #434B5C;\n",
              "      box-shadow: 0px 1px 3px 1px rgba(0, 0, 0, 0.15);\n",
              "      filter: drop-shadow(0px 1px 2px rgba(0, 0, 0, 0.3));\n",
              "      fill: #FFFFFF;\n",
              "    }\n",
              "  </style>\n",
              "\n",
              "    <script>\n",
              "      const buttonEl =\n",
              "        document.querySelector('#df-8f1921b5-0982-4123-801c-8fd89e341e32 button.colab-df-convert');\n",
              "      buttonEl.style.display =\n",
              "        google.colab.kernel.accessAllowed ? 'block' : 'none';\n",
              "\n",
              "      async function convertToInteractive(key) {\n",
              "        const element = document.querySelector('#df-8f1921b5-0982-4123-801c-8fd89e341e32');\n",
              "        const dataTable =\n",
              "          await google.colab.kernel.invokeFunction('convertToInteractive',\n",
              "                                                    [key], {});\n",
              "        if (!dataTable) return;\n",
              "\n",
              "        const docLinkHtml = 'Like what you see? Visit the ' +\n",
              "          '<a target=\"_blank\" href=https://colab.research.google.com/notebooks/data_table.ipynb>data table notebook</a>'\n",
              "          + ' to learn more about interactive tables.';\n",
              "        element.innerHTML = '';\n",
              "        dataTable['output_type'] = 'display_data';\n",
              "        await google.colab.output.renderOutput(dataTable, element);\n",
              "        const docLink = document.createElement('div');\n",
              "        docLink.innerHTML = docLinkHtml;\n",
              "        element.appendChild(docLink);\n",
              "      }\n",
              "    </script>\n",
              "  </div>\n",
              "\n",
              "\n",
              "<div id=\"df-d3db18b6-44fa-4865-a62c-046a82058582\">\n",
              "  <button class=\"colab-df-quickchart\" onclick=\"quickchart('df-d3db18b6-44fa-4865-a62c-046a82058582')\"\n",
              "            title=\"Suggest charts\"\n",
              "            style=\"display:none;\">\n",
              "\n",
              "<svg xmlns=\"http://www.w3.org/2000/svg\" height=\"24px\"viewBox=\"0 0 24 24\"\n",
              "     width=\"24px\">\n",
              "    <g>\n",
              "        <path d=\"M19 3H5c-1.1 0-2 .9-2 2v14c0 1.1.9 2 2 2h14c1.1 0 2-.9 2-2V5c0-1.1-.9-2-2-2zM9 17H7v-7h2v7zm4 0h-2V7h2v10zm4 0h-2v-4h2v4z\"/>\n",
              "    </g>\n",
              "</svg>\n",
              "  </button>\n",
              "\n",
              "<style>\n",
              "  .colab-df-quickchart {\n",
              "      --bg-color: #E8F0FE;\n",
              "      --fill-color: #1967D2;\n",
              "      --hover-bg-color: #E2EBFA;\n",
              "      --hover-fill-color: #174EA6;\n",
              "      --disabled-fill-color: #AAA;\n",
              "      --disabled-bg-color: #DDD;\n",
              "  }\n",
              "\n",
              "  [theme=dark] .colab-df-quickchart {\n",
              "      --bg-color: #3B4455;\n",
              "      --fill-color: #D2E3FC;\n",
              "      --hover-bg-color: #434B5C;\n",
              "      --hover-fill-color: #FFFFFF;\n",
              "      --disabled-bg-color: #3B4455;\n",
              "      --disabled-fill-color: #666;\n",
              "  }\n",
              "\n",
              "  .colab-df-quickchart {\n",
              "    background-color: var(--bg-color);\n",
              "    border: none;\n",
              "    border-radius: 50%;\n",
              "    cursor: pointer;\n",
              "    display: none;\n",
              "    fill: var(--fill-color);\n",
              "    height: 32px;\n",
              "    padding: 0;\n",
              "    width: 32px;\n",
              "  }\n",
              "\n",
              "  .colab-df-quickchart:hover {\n",
              "    background-color: var(--hover-bg-color);\n",
              "    box-shadow: 0 1px 2px rgba(60, 64, 67, 0.3), 0 1px 3px 1px rgba(60, 64, 67, 0.15);\n",
              "    fill: var(--button-hover-fill-color);\n",
              "  }\n",
              "\n",
              "  .colab-df-quickchart-complete:disabled,\n",
              "  .colab-df-quickchart-complete:disabled:hover {\n",
              "    background-color: var(--disabled-bg-color);\n",
              "    fill: var(--disabled-fill-color);\n",
              "    box-shadow: none;\n",
              "  }\n",
              "\n",
              "  .colab-df-spinner {\n",
              "    border: 2px solid var(--fill-color);\n",
              "    border-color: transparent;\n",
              "    border-bottom-color: var(--fill-color);\n",
              "    animation:\n",
              "      spin 1s steps(1) infinite;\n",
              "  }\n",
              "\n",
              "  @keyframes spin {\n",
              "    0% {\n",
              "      border-color: transparent;\n",
              "      border-bottom-color: var(--fill-color);\n",
              "      border-left-color: var(--fill-color);\n",
              "    }\n",
              "    20% {\n",
              "      border-color: transparent;\n",
              "      border-left-color: var(--fill-color);\n",
              "      border-top-color: var(--fill-color);\n",
              "    }\n",
              "    30% {\n",
              "      border-color: transparent;\n",
              "      border-left-color: var(--fill-color);\n",
              "      border-top-color: var(--fill-color);\n",
              "      border-right-color: var(--fill-color);\n",
              "    }\n",
              "    40% {\n",
              "      border-color: transparent;\n",
              "      border-right-color: var(--fill-color);\n",
              "      border-top-color: var(--fill-color);\n",
              "    }\n",
              "    60% {\n",
              "      border-color: transparent;\n",
              "      border-right-color: var(--fill-color);\n",
              "    }\n",
              "    80% {\n",
              "      border-color: transparent;\n",
              "      border-right-color: var(--fill-color);\n",
              "      border-bottom-color: var(--fill-color);\n",
              "    }\n",
              "    90% {\n",
              "      border-color: transparent;\n",
              "      border-bottom-color: var(--fill-color);\n",
              "    }\n",
              "  }\n",
              "</style>\n",
              "\n",
              "  <script>\n",
              "    async function quickchart(key) {\n",
              "      const quickchartButtonEl =\n",
              "        document.querySelector('#' + key + ' button');\n",
              "      quickchartButtonEl.disabled = true;  // To prevent multiple clicks.\n",
              "      quickchartButtonEl.classList.add('colab-df-spinner');\n",
              "      try {\n",
              "        const charts = await google.colab.kernel.invokeFunction(\n",
              "            'suggestCharts', [key], {});\n",
              "      } catch (error) {\n",
              "        console.error('Error during call to suggestCharts:', error);\n",
              "      }\n",
              "      quickchartButtonEl.classList.remove('colab-df-spinner');\n",
              "      quickchartButtonEl.classList.add('colab-df-quickchart-complete');\n",
              "    }\n",
              "    (() => {\n",
              "      let quickchartButtonEl =\n",
              "        document.querySelector('#df-d3db18b6-44fa-4865-a62c-046a82058582 button');\n",
              "      quickchartButtonEl.style.display =\n",
              "        google.colab.kernel.accessAllowed ? 'block' : 'none';\n",
              "    })();\n",
              "  </script>\n",
              "</div>\n",
              "    </div>\n",
              "  </div>\n"
            ]
          },
          "metadata": {},
          "execution_count": 105
        }
      ]
    },
    {
      "cell_type": "code",
      "source": [
        "ccd  = ccd.merge(truck_traffic_ccd, left_on=\"CCD\", right_on=\"Destination Zone Name\")"
      ],
      "metadata": {
        "id": "I82zM5PhgjQI"
      },
      "execution_count": 106,
      "outputs": []
    },
    {
      "cell_type": "code",
      "source": [
        "ccd.plot(x=\"POP_20\",y=\"Average Daily O-D Traffic (StL Index)\", kind=\"scatter\")"
      ],
      "metadata": {
        "colab": {
          "base_uri": "https://localhost:8080/",
          "height": 466
        },
        "id": "tW1MLECGkHNx",
        "outputId": "92eede84-d000-4d01-8b7d-795fd5d2ce7c"
      },
      "execution_count": 107,
      "outputs": [
        {
          "output_type": "execute_result",
          "data": {
            "text/plain": [
              "<Axes: xlabel='POP_20', ylabel='Average Daily O-D Traffic (StL Index)'>"
            ]
          },
          "metadata": {},
          "execution_count": 107
        },
        {
          "output_type": "display_data",
          "data": {
            "text/plain": [
              "<Figure size 640x480 with 1 Axes>"
            ],
            "image/png": "[encoded data removed]"
          },
          "metadata": {}
        }
      ]
    },
    {
      "cell_type": "code",
      "source": [
        "ccd.plot(x=\"FIS_capita\",y=\"Average Daily O-D Traffic (StL Index)\", kind=\"scatter\")"
      ],
      "metadata": {
        "colab": {
          "base_uri": "https://localhost:8080/",
          "height": 467
        },
        "id": "lBYXBhy68_8R",
        "outputId": "f0dc7d3f-99ca-4dc1-e22f-53725d49e25f"
      },
      "execution_count": 108,
      "outputs": [
        {
          "output_type": "execute_result",
          "data": {
            "text/plain": [
              "<Axes: xlabel='FIS_capita', ylabel='Average Daily O-D Traffic (StL Index)'>"
            ]
          },
          "metadata": {},
          "execution_count": 108
        },
        {
          "output_type": "display_data",
          "data": {
            "text/plain": [
              "<Figure size 640x480 with 1 Axes>"
            ],
            "image/png": "[encoded data removed]"
          },
          "metadata": {}
        }
      ]
    },
    {
      "cell_type": "code",
      "source": [
        "ccd.columns"
      ],
      "metadata": {
        "colab": {
          "base_uri": "https://localhost:8080/"
        },
        "id": "EUpKTpdj9PD7",
        "outputId": "f2a3c1ed-e78c-467c-8e25-f65ea0051c8c"
      },
      "execution_count": 109,
      "outputs": [
        {
          "output_type": "execute_result",
          "data": {
            "text/plain": [
              "Index(['NAME', 'geometry', 'CCD', 'POP_20', 'TOT_Units_', 'Occ_HH_20',\n",
              "       'Vacant_20', 'Tot_GC_20', 'TOT_Inst_2', 'TOT_nonins', 'NATRES_20',\n",
              "       'CONS_20', 'MANU_20', 'WHL_RET_20', 'TRN_UTL_20', 'INFO_20',\n",
              "       'FINANCE_20', 'PRO_BUS_20', 'ED_HEALTH_', 'LE_HOSP_20', 'OT_SVCS_20',\n",
              "       'PUBADM_20', 'FOOD_SVC_2', 'FIS_20', 'TOT_20', 'EMP_19', 'Adj_EMP_20',\n",
              "       'FIS', 'SIS', 'FIS_per', 'FIS_capita', 'Destination Zone Name',\n",
              "       'Average Daily O-D Traffic (StL Index)'],\n",
              "      dtype='object')"
            ]
          },
          "metadata": {},
          "execution_count": 109
        }
      ]
    },
    {
      "cell_type": "code",
      "source": [
        "gpd.overlay(CFC, ccd, how=\"intersection\").length\n",
        "gpd.overlay(PiedmontCorridor, ccd, how=\"intersection\").length\n",
        "gpd.overlay(CoastalCorridor, ccd, how=\"intersection\").length\n",
        "gpd.overlay(MetroCorridor, ccd, how=\"intersection\").length\n",
        "gpd.overlay(LewesCorridor, ccd, how=\"intersection\").length\n",
        "gpd.overlay(BayCorridor, ccd, how=\"intersection\").length"
      ],
      "metadata": {
        "colab": {
          "base_uri": "https://localhost:8080/"
        },
        "id": "V4bGPQ4-8xC7",
        "outputId": "3358f1c4-e972-4f1c-ca65-968777c74fad"
      },
      "execution_count": 110,
      "outputs": [
        {
          "output_type": "execute_result",
          "data": {
            "text/plain": [
              "0    59204.299611\n",
              "1    24259.128666\n",
              "dtype: float64"
            ]
          },
          "metadata": {},
          "execution_count": 110
        }
      ]
    },
    {
      "cell_type": "code",
      "source": [
        "CFC_ccd = gpd.overlay(CFC, ccd, how=\"intersection\")\n",
        "CFC_ccd[\"length_CFC\"] = CFC_ccd.length\n",
        "CFC_ccd = CFC_ccd.groupby(\"NAME\").sum(numeric_only=True).reset_index()[[\"NAME\",\"length_CFC\"]]"
      ],
      "metadata": {
        "id": "wx2oWlzeVDsi"
      },
      "execution_count": 111,
      "outputs": []
    },
    {
      "cell_type": "code",
      "source": [
        "PiedmontCorridor_ccd = gpd.overlay(PiedmontCorridor, ccd, how=\"intersection\", keep_geom_type=True)\n",
        "PiedmontCorridor_ccd[\"length_Piedmont\"] = PiedmontCorridor_ccd.length\n",
        "PiedmontCorridor_ccd = PiedmontCorridor_ccd.groupby(\"NAME\").sum(numeric_only=True).reset_index()[[\"NAME\",\"length_Piedmont\"]]"
      ],
      "metadata": {
        "id": "yHaQ3Su8CMgc"
      },
      "execution_count": 112,
      "outputs": []
    },
    {
      "cell_type": "code",
      "source": [
        "CoastalCorridor_ccd = gpd.overlay(CoastalCorridor, ccd, how=\"intersection\", keep_geom_type=True)\n",
        "CoastalCorridor_ccd[\"length_Coastal\"] = CoastalCorridor_ccd.length\n",
        "CoastalCorridor_ccd = CoastalCorridor_ccd.groupby(\"NAME\").sum(numeric_only=True).reset_index()[[\"NAME\",\"length_Coastal\"]]"
      ],
      "metadata": {
        "id": "gYRrpy99UjnP"
      },
      "execution_count": 113,
      "outputs": []
    },
    {
      "cell_type": "code",
      "source": [
        "MetroCorridor_ccd = gpd.overlay(MetroCorridor, ccd, how=\"intersection\", keep_geom_type=True)\n",
        "MetroCorridor_ccd[\"length_Metro\"] = MetroCorridor_ccd.length\n",
        "MetroCorridor_ccd = MetroCorridor_ccd.groupby(\"NAME\").sum(numeric_only=True).reset_index()[[\"NAME\",\"length_Metro\"]]"
      ],
      "metadata": {
        "id": "XHXUhnexf46w"
      },
      "execution_count": 114,
      "outputs": []
    },
    {
      "cell_type": "code",
      "source": [
        "LewesCorridor_ccd = gpd.overlay(LewesCorridor, ccd, how=\"intersection\", keep_geom_type=True)\n",
        "LewesCorridor_ccd[\"length_Lewes\"] = LewesCorridor_ccd.length\n",
        "LewesCorridor_ccd = LewesCorridor_ccd.groupby(\"NAME\").sum(numeric_only=True).reset_index()[[\"NAME\",\"length_Lewes\"]]"
      ],
      "metadata": {
        "id": "BJUNVGr0f_3i"
      },
      "execution_count": 115,
      "outputs": []
    },
    {
      "cell_type": "code",
      "source": [
        "BayCorridor_ccd = gpd.overlay(BayCorridor, ccd, how=\"intersection\", keep_geom_type=True)\n",
        "BayCorridor_ccd[\"length_Bay\"] = BayCorridor_ccd.length\n",
        "BayCorridor_ccd = BayCorridor_ccd.groupby(\"NAME\").sum(numeric_only=True).reset_index()[[\"NAME\",\"length_Bay\"]]"
      ],
      "metadata": {
        "id": "taozj3PBgHjT"
      },
      "execution_count": 116,
      "outputs": []
    },
    {
      "cell_type": "code",
      "source": [
        "ccd = ccd.merge(CFC_ccd, left_on=\"CCD\", right_on=\"NAME\", how=\"outer\")\n",
        "ccd = ccd.merge(PiedmontCorridor_ccd, left_on=\"CCD\", right_on=\"NAME\", how=\"outer\")\n",
        "ccd = ccd.merge(CoastalCorridor_ccd, left_on=\"CCD\", right_on=\"NAME\", how=\"outer\")\n",
        "ccd = ccd.merge(MetroCorridor_ccd, left_on=\"CCD\", right_on=\"NAME\", how=\"outer\")\n",
        "ccd = ccd.merge(LewesCorridor_ccd, left_on=\"CCD\", right_on=\"NAME\", how=\"outer\")\n",
        "ccd = ccd.merge(BayCorridor_ccd, left_on=\"CCD\", right_on=\"NAME\", how=\"outer\").fillna(0)"
      ],
      "metadata": {
        "colab": {
          "base_uri": "https://localhost:8080/"
        },
        "id": "VOV_7f-3Uu2b",
        "outputId": "44c5181b-e757-445d-8299-98211ce48e60"
      },
      "execution_count": 117,
      "outputs": [
        {
          "output_type": "stream",
          "name": "stderr",
          "text": [
            "/usr/local/lib/python3.10/dist-packages/geopandas/geodataframe.py:1569: FutureWarning: Passing 'suffixes' which cause duplicate columns {'NAME_x'} in the result is deprecated and will raise a MergeError in a future version.\n",
            "  result = DataFrame.merge(self, *args, **kwargs)\n",
            "/usr/local/lib/python3.10/dist-packages/geopandas/geodataframe.py:1569: FutureWarning: Passing 'suffixes' which cause duplicate columns {'NAME_x'} in the result is deprecated and will raise a MergeError in a future version.\n",
            "  result = DataFrame.merge(self, *args, **kwargs)\n"
          ]
        }
      ]
    },
    {
      "cell_type": "code",
      "source": [
        "ccd[\"freight_length\"] = ccd[\"length_Piedmont\"] + ccd[\"length_Coastal\"] + ccd[\"length_Metro\"] + ccd[\"length_Lewes\"] + ccd[\"length_Bay\"]"
      ],
      "metadata": {
        "id": "EZyRlqEPukx8"
      },
      "execution_count": 118,
      "outputs": []
    },
    {
      "cell_type": "code",
      "source": [
        "ccd = ccd.drop(columns=[\"NAME\", \"NAME_x\", \"NAME_y\"])"
      ],
      "metadata": {
        "id": "u9qt-SL4ulRS"
      },
      "execution_count": 119,
      "outputs": []
    },
    {
      "cell_type": "code",
      "source": [
        "rail_ccd = gpd.overlay(rail, ccd, how=\"intersection\", keep_geom_type=True)\n",
        "rail_ccd[\"rail_length\"] = rail_ccd.length\n",
        "rail_ccd = rail_ccd.groupby(\"CCD\").sum(numeric_only=True).reset_index()[[\"CCD\",\"rail_length\"]]"
      ],
      "metadata": {
        "id": "1DuRzLfOE0ML"
      },
      "execution_count": 120,
      "outputs": []
    },
    {
      "cell_type": "code",
      "source": [
        "ccd = ccd.merge(rail_ccd, left_on=\"CCD\", right_on=\"CCD\", how=\"outer\").fillna(0)"
      ],
      "metadata": {
        "id": "GkiPr3x5Gol7"
      },
      "execution_count": 121,
      "outputs": []
    },
    {
      "cell_type": "code",
      "source": [
        "ccd.columns = ['geometry', 'CCD', 'POP_20', 'TOT_Units_', 'Occ_HH_20', 'Vacant_20',\n",
        "       'Tot_GC_20', 'TOT_Inst_2', 'TOT_nonins', 'NATRES_20', 'CONS_20',\n",
        "       'MANU_20', 'WHL_RET_20', 'TRN_UTL_20', 'INFO_20', 'FINANCE_20',\n",
        "       'PRO_BUS_20', 'ED_HEALTH_', 'LE_HOSP_20', 'OT_SVCS_20', 'PUBADM_20',\n",
        "       'FOOD_SVC_2', 'FIS_20', 'TOT_20', 'EMP_19', 'Adj_EMP_20', 'FIS', 'SIS',\n",
        "       'FIS_per', 'FIS_capita', 'Destination Zone Name',\n",
        "       'StL_Index', 'length_CFC',\n",
        "       'length_Piedmont', 'length_Coastal', 'length_Metro', 'length_Lewes',\n",
        "       'length_Bay', 'freight_length', 'rail_length']"
      ],
      "metadata": {
        "id": "Gy93qtiL5y3r"
      },
      "execution_count": 122,
      "outputs": []
    },
    {
      "cell_type": "code",
      "source": [
        "# -- import statmodels using the formula api\n",
        "import statsmodels.formula.api as sm"
      ],
      "metadata": {
        "id": "unBXHVQq5z5P"
      },
      "execution_count": 123,
      "outputs": []
    },
    {
      "cell_type": "code",
      "source": [
        "# -- first build the model\n",
        "model = sm.ols(\"StL_Index ~ TOT_Units_ + FIS\", data=ccd)\n",
        "\n",
        "# -- now fit the model to the data\n",
        "result = model.fit()"
      ],
      "metadata": {
        "id": "8aigiVOC7CLa"
      },
      "execution_count": 129,
      "outputs": []
    },
    {
      "cell_type": "code",
      "source": [
        "# -- summarize the model fit\n",
        "print(result.summary())"
      ],
      "metadata": {
        "colab": {
          "base_uri": "https://localhost:8080/"
        },
        "id": "0nSbJR0i7-zo",
        "outputId": "b4088501-ee9f-4d48-fce0-a25a7ecf7e35"
      },
      "execution_count": 130,
      "outputs": [
        {
          "output_type": "stream",
          "name": "stdout",
          "text": [
            "                            OLS Regression Results                            \n",
            "==============================================================================\n",
            "Dep. Variable:              StL_Index   R-squared:                       0.642\n",
            "Model:                            OLS   Adj. R-squared:                  0.553\n",
            "Method:                 Least Squares   F-statistic:                     7.178\n",
            "Date:                Thu, 25 Jan 2024   Prob (F-statistic):             0.0164\n",
            "Time:                        20:22:38   Log-Likelihood:                -132.39\n",
            "No. Observations:                  11   AIC:                             270.8\n",
            "Df Residuals:                       8   BIC:                             272.0\n",
            "Df Model:                           2                                         \n",
            "Covariance Type:            nonrobust                                         \n",
            "==============================================================================\n",
            "                 coef    std err          t      P>|t|      [0.025      0.975]\n",
            "------------------------------------------------------------------------------\n",
            "Intercept  -1.732e+04   3.42e+04     -0.506      0.626   -9.62e+04    6.15e+04\n",
            "TOT_Units_     5.1527      2.006      2.569      0.033       0.528       9.777\n",
            "FIS            0.5180      6.267      0.083      0.936     -13.934      14.970\n",
            "==============================================================================\n",
            "Omnibus:                        4.429   Durbin-Watson:                   2.875\n",
            "Prob(Omnibus):                  0.109   Jarque-Bera (JB):                1.904\n",
            "Skew:                           1.007   Prob(JB):                        0.386\n",
            "Kurtosis:                       3.311   Cond. No.                     5.83e+04\n",
            "==============================================================================\n",
            "\n",
            "Notes:\n",
            "[1] Standard Errors assume that the covariance matrix of the errors is correctly specified.\n",
            "[2] The condition number is large, 5.83e+04. This might indicate that there are\n",
            "strong multicollinearity or other numerical problems.\n"
          ]
        },
        {
          "output_type": "stream",
          "name": "stderr",
          "text": [
            "/usr/local/lib/python3.10/dist-packages/scipy/stats/_stats_py.py:1806: UserWarning: kurtosistest only valid for n>=20 ... continuing anyway, n=11\n",
            "  warnings.warn(\"kurtosistest only valid for n>=20 ... continuing \"\n"
          ]
        }
      ]
    },
    {
      "cell_type": "code",
      "source": [
        "# -- first build the model\n",
        "model = sm.ols(\"StL_Index ~ POP_20 + Adj_EMP_20 + CONS_20 + MANU_20 + WHL_RET_20 + TRN_UTL_20 + FIS_20\", data=ccd)\n",
        "\n",
        "# -- now fit the model to the data\n",
        "result = model.fit()\n",
        "\n",
        "# -- summarize the model fit\n",
        "print(result.summary())"
      ],
      "metadata": {
        "colab": {
          "base_uri": "https://localhost:8080/"
        },
        "id": "hGAbQLBklhfQ",
        "outputId": "be236f7c-fe2b-437d-e65f-94d95bff1ec7"
      },
      "execution_count": 132,
      "outputs": [
        {
          "output_type": "stream",
          "name": "stdout",
          "text": [
            "                            OLS Regression Results                            \n",
            "==============================================================================\n",
            "Dep. Variable:              StL_Index   R-squared:                       0.895\n",
            "Model:                            OLS   Adj. R-squared:                  0.650\n",
            "Method:                 Least Squares   F-statistic:                     3.650\n",
            "Date:                Thu, 25 Jan 2024   Prob (F-statistic):              0.158\n",
            "Time:                        20:23:01   Log-Likelihood:                -125.65\n",
            "No. Observations:                  11   AIC:                             267.3\n",
            "Df Residuals:                       3   BIC:                             270.5\n",
            "Df Model:                           7                                         \n",
            "Covariance Type:            nonrobust                                         \n",
            "==============================================================================\n",
            "                 coef    std err          t      P>|t|      [0.025      0.975]\n",
            "------------------------------------------------------------------------------\n",
            "Intercept  -1.811e+04    3.6e+04     -0.504      0.649   -1.33e+05    9.63e+04\n",
            "POP_20         0.9526      1.499      0.636      0.570      -3.817       5.723\n",
            "Adj_EMP_20     2.6840      3.142      0.854      0.456      -7.314      12.682\n",
            "CONS_20       48.8567     42.998      1.136      0.338     -87.982     185.696\n",
            "MANU_20       24.5332     21.815      1.125      0.343     -44.892      93.959\n",
            "WHL_RET_20    45.5357     37.318      1.220      0.310     -73.226     164.298\n",
            "TRN_UTL_20    52.8703     86.501      0.611      0.584    -222.413     328.154\n",
            "FIS_20       -33.3347     23.365     -1.427      0.249    -107.691      41.022\n",
            "==============================================================================\n",
            "Omnibus:                        1.715   Durbin-Watson:                   2.022\n",
            "Prob(Omnibus):                  0.424   Jarque-Bera (JB):                0.991\n",
            "Skew:                           0.705   Prob(JB):                        0.609\n",
            "Kurtosis:                       2.584   Cond. No.                     1.84e+05\n",
            "==============================================================================\n",
            "\n",
            "Notes:\n",
            "[1] Standard Errors assume that the covariance matrix of the errors is correctly specified.\n",
            "[2] The condition number is large, 1.84e+05. This might indicate that there are\n",
            "strong multicollinearity or other numerical problems.\n"
          ]
        },
        {
          "output_type": "stream",
          "name": "stderr",
          "text": [
            "/usr/local/lib/python3.10/dist-packages/scipy/stats/_stats_py.py:1806: UserWarning: kurtosistest only valid for n>=20 ... continuing anyway, n=11\n",
            "  warnings.warn(\"kurtosistest only valid for n>=20 ... continuing \"\n"
          ]
        }
      ]
    },
    {
      "cell_type": "code",
      "source": [
        "ccd.describe()"
      ],
      "metadata": {
        "colab": {
          "base_uri": "https://localhost:8080/",
          "height": 349
        },
        "id": "ncADjdiFrSqC",
        "outputId": "1c27ecbd-1085-4ccd-9487-ab9d5a0650e7"
      },
      "execution_count": 127,
      "outputs": [
        {
          "output_type": "execute_result",
          "data": {
            "text/plain": [
              "             POP_20    TOT_Units_     Occ_HH_20    Vacant_20    Tot_GC_20  \\\n",
              "count     11.000000     11.000000     11.000000    11.000000    11.000000   \n",
              "mean   51883.545455  21249.727273  19961.000000  1288.727273  1445.363636   \n",
              "std    25127.227998  10869.374003  10000.152199  1166.797677  2257.073693   \n",
              "min    10061.000000   3548.000000   3423.000000   125.000000    62.000000   \n",
              "25%    34334.500000  14083.500000  13456.000000   534.500000   131.000000   \n",
              "50%    42813.000000  18310.000000  17596.000000   839.000000   618.000000   \n",
              "75%    69708.500000  30535.500000  27155.000000  1698.000000  1682.000000   \n",
              "max    90410.000000  36383.000000  34665.000000  3901.000000  7769.000000   \n",
              "\n",
              "        TOT_Inst_2   TOT_nonins   NATRES_20      CONS_20      MANU_20  ...  \\\n",
              "count    11.000000    11.000000   11.000000    11.000000    11.000000  ...   \n",
              "mean    577.090909   868.272727   27.272727  1386.818182  1635.454545  ...   \n",
              "std     667.357544  2206.701026   35.908469   960.839302  1570.712409  ...   \n",
              "min       0.000000    32.000000    0.000000   253.000000   194.000000  ...   \n",
              "25%      73.500000    57.500000    6.000000   650.500000   439.500000  ...   \n",
              "50%     274.000000   108.000000   14.000000  1290.000000  1129.000000  ...   \n",
              "75%     781.500000   407.000000   33.000000  1850.000000  1940.000000  ...   \n",
              "max    1865.000000  7495.000000  123.000000  2989.000000  4702.000000  ...   \n",
              "\n",
              "       FIS_capita      StL_Index     length_CFC  length_Piedmont  \\\n",
              "count   11.000000      11.000000      11.000000        11.000000   \n",
              "mean     0.132037   95483.454545   49220.555252     10924.546019   \n",
              "std      0.062759   71526.611777   53396.696948     12647.521028   \n",
              "min      0.061010   31267.000000       0.000000         0.000000   \n",
              "25%      0.089315   46293.500000    9861.949990         0.000000   \n",
              "50%      0.114161   74421.000000   25139.558117      5566.094098   \n",
              "75%      0.161605  111076.500000   81985.823918     21068.825115   \n",
              "max      0.260151  271318.000000  142284.875030     32185.299743   \n",
              "\n",
              "       length_Coastal   length_Metro  length_Lewes    length_Bay  \\\n",
              "count       11.000000      11.000000          11.0     11.000000   \n",
              "mean     26877.657096   28461.009759           0.0   7587.584389   \n",
              "std      59841.353712   38324.122544           0.0  18602.066043   \n",
              "min          0.000000       0.000000           0.0      0.000000   \n",
              "25%          0.000000       0.000000           0.0      0.000000   \n",
              "50%          0.000000   14345.591737           0.0      0.000000   \n",
              "75%      19865.116154   38180.654226           0.0      0.000000   \n",
              "max     198278.687068  122855.827195           0.0  59204.299611   \n",
              "\n",
              "       freight_length    rail_length  \n",
              "count       11.000000      11.000000  \n",
              "mean     73850.797262  156078.512705  \n",
              "std      84278.191417   87860.011857  \n",
              "min       5566.094098   16763.727469  \n",
              "25%      22133.087589   94311.206437  \n",
              "50%      32704.587792  140201.774798  \n",
              "75%      80030.722507  237464.234614  \n",
              "max     257482.986679  276297.594694  \n",
              "\n",
              "[8 rows x 37 columns]"
            ],
            "text/html": [
              "\n",
              "  <div id=\"df-7ccea1fb-cb03-4924-a1a1-6fbeb1a73264\" class=\"colab-df-container\">\n",
              "    <div>\n",
              "<style scoped>\n",
              "    .dataframe tbody tr th:only-of-type {\n",
              "        vertical-align: middle;\n",
              "    }\n",
              "\n",
              "    .dataframe tbody tr th {\n",
              "        vertical-align: top;\n",
              "    }\n",
              "\n",
              "    .dataframe thead th {\n",
              "        text-align: right;\n",
              "    }\n",
              "</style>\n",
              "<table border=\"1\" class=\"dataframe\">\n",
              "  <thead>\n",
              "    <tr style=\"text-align: right;\">\n",
              "      <th></th>\n",
              "      <th>POP_20</th>\n",
              "      <th>TOT_Units_</th>\n",
              "      <th>Occ_HH_20</th>\n",
              "      <th>Vacant_20</th>\n",
              "      <th>Tot_GC_20</th>\n",
              "      <th>TOT_Inst_2</th>\n",
              "      <th>TOT_nonins</th>\n",
              "      <th>NATRES_20</th>\n",
              "      <th>CONS_20</th>\n",
              "      <th>MANU_20</th>\n",
              "      <th>...</th>\n",
              "      <th>FIS_capita</th>\n",
              "      <th>StL_Index</th>\n",
              "      <th>length_CFC</th>\n",
              "      <th>length_Piedmont</th>\n",
              "      <th>length_Coastal</th>\n",
              "      <th>length_Metro</th>\n",
              "      <th>length_Lewes</th>\n",
              "      <th>length_Bay</th>\n",
              "      <th>freight_length</th>\n",
              "      <th>rail_length</th>\n",
              "    </tr>\n",
              "  </thead>\n",
              "  <tbody>\n",
              "    <tr>\n",
              "      <th>count</th>\n",
              "      <td>11.000000</td>\n",
              "      <td>11.000000</td>\n",
              "      <td>11.000000</td>\n",
              "      <td>11.000000</td>\n",
              "      <td>11.000000</td>\n",
              "      <td>11.000000</td>\n",
              "      <td>11.000000</td>\n",
              "      <td>11.000000</td>\n",
              "      <td>11.000000</td>\n",
              "      <td>11.000000</td>\n",
              "      <td>...</td>\n",
              "      <td>11.000000</td>\n",
              "      <td>11.000000</td>\n",
              "      <td>11.000000</td>\n",
              "      <td>11.000000</td>\n",
              "      <td>11.000000</td>\n",
              "      <td>11.000000</td>\n",
              "      <td>11.0</td>\n",
              "      <td>11.000000</td>\n",
              "      <td>11.000000</td>\n",
              "      <td>11.000000</td>\n",
              "    </tr>\n",
              "    <tr>\n",
              "      <th>mean</th>\n",
              "      <td>51883.545455</td>\n",
              "      <td>21249.727273</td>\n",
              "      <td>19961.000000</td>\n",
              "      <td>1288.727273</td>\n",
              "      <td>1445.363636</td>\n",
              "      <td>577.090909</td>\n",
              "      <td>868.272727</td>\n",
              "      <td>27.272727</td>\n",
              "      <td>1386.818182</td>\n",
              "      <td>1635.454545</td>\n",
              "      <td>...</td>\n",
              "      <td>0.132037</td>\n",
              "      <td>95483.454545</td>\n",
              "      <td>49220.555252</td>\n",
              "      <td>10924.546019</td>\n",
              "      <td>26877.657096</td>\n",
              "      <td>28461.009759</td>\n",
              "      <td>0.0</td>\n",
              "      <td>7587.584389</td>\n",
              "      <td>73850.797262</td>\n",
              "      <td>156078.512705</td>\n",
              "    </tr>\n",
              "    <tr>\n",
              "      <th>std</th>\n",
              "      <td>25127.227998</td>\n",
              "      <td>10869.374003</td>\n",
              "      <td>10000.152199</td>\n",
              "      <td>1166.797677</td>\n",
              "      <td>2257.073693</td>\n",
              "      <td>667.357544</td>\n",
              "      <td>2206.701026</td>\n",
              "      <td>35.908469</td>\n",
              "      <td>960.839302</td>\n",
              "      <td>1570.712409</td>\n",
              "      <td>...</td>\n",
              "      <td>0.062759</td>\n",
              "      <td>71526.611777</td>\n",
              "      <td>53396.696948</td>\n",
              "      <td>12647.521028</td>\n",
              "      <td>59841.353712</td>\n",
              "      <td>38324.122544</td>\n",
              "      <td>0.0</td>\n",
              "      <td>18602.066043</td>\n",
              "      <td>84278.191417</td>\n",
              "      <td>87860.011857</td>\n",
              "    </tr>\n",
              "    <tr>\n",
              "      <th>min</th>\n",
              "      <td>10061.000000</td>\n",
              "      <td>3548.000000</td>\n",
              "      <td>3423.000000</td>\n",
              "      <td>125.000000</td>\n",
              "      <td>62.000000</td>\n",
              "      <td>0.000000</td>\n",
              "      <td>32.000000</td>\n",
              "      <td>0.000000</td>\n",
              "      <td>253.000000</td>\n",
              "      <td>194.000000</td>\n",
              "      <td>...</td>\n",
              "      <td>0.061010</td>\n",
              "      <td>31267.000000</td>\n",
              "      <td>0.000000</td>\n",
              "      <td>0.000000</td>\n",
              "      <td>0.000000</td>\n",
              "      <td>0.000000</td>\n",
              "      <td>0.0</td>\n",
              "      <td>0.000000</td>\n",
              "      <td>5566.094098</td>\n",
              "      <td>16763.727469</td>\n",
              "    </tr>\n",
              "    <tr>\n",
              "      <th>25%</th>\n",
              "      <td>34334.500000</td>\n",
              "      <td>14083.500000</td>\n",
              "      <td>13456.000000</td>\n",
              "      <td>534.500000</td>\n",
              "      <td>131.000000</td>\n",
              "      <td>73.500000</td>\n",
              "      <td>57.500000</td>\n",
              "      <td>6.000000</td>\n",
              "      <td>650.500000</td>\n",
              "      <td>439.500000</td>\n",
              "      <td>...</td>\n",
              "      <td>0.089315</td>\n",
              "      <td>46293.500000</td>\n",
              "      <td>9861.949990</td>\n",
              "      <td>0.000000</td>\n",
              "      <td>0.000000</td>\n",
              "      <td>0.000000</td>\n",
              "      <td>0.0</td>\n",
              "      <td>0.000000</td>\n",
              "      <td>22133.087589</td>\n",
              "      <td>94311.206437</td>\n",
              "    </tr>\n",
              "    <tr>\n",
              "      <th>50%</th>\n",
              "      <td>42813.000000</td>\n",
              "      <td>18310.000000</td>\n",
              "      <td>17596.000000</td>\n",
              "      <td>839.000000</td>\n",
              "      <td>618.000000</td>\n",
              "      <td>274.000000</td>\n",
              "      <td>108.000000</td>\n",
              "      <td>14.000000</td>\n",
              "      <td>1290.000000</td>\n",
              "      <td>1129.000000</td>\n",
              "      <td>...</td>\n",
              "      <td>0.114161</td>\n",
              "      <td>74421.000000</td>\n",
              "      <td>25139.558117</td>\n",
              "      <td>5566.094098</td>\n",
              "      <td>0.000000</td>\n",
              "      <td>14345.591737</td>\n",
              "      <td>0.0</td>\n",
              "      <td>0.000000</td>\n",
              "      <td>32704.587792</td>\n",
              "      <td>140201.774798</td>\n",
              "    </tr>\n",
              "    <tr>\n",
              "      <th>75%</th>\n",
              "      <td>69708.500000</td>\n",
              "      <td>30535.500000</td>\n",
              "      <td>27155.000000</td>\n",
              "      <td>1698.000000</td>\n",
              "      <td>1682.000000</td>\n",
              "      <td>781.500000</td>\n",
              "      <td>407.000000</td>\n",
              "      <td>33.000000</td>\n",
              "      <td>1850.000000</td>\n",
              "      <td>1940.000000</td>\n",
              "      <td>...</td>\n",
              "      <td>0.161605</td>\n",
              "      <td>111076.500000</td>\n",
              "      <td>81985.823918</td>\n",
              "      <td>21068.825115</td>\n",
              "      <td>19865.116154</td>\n",
              "      <td>38180.654226</td>\n",
              "      <td>0.0</td>\n",
              "      <td>0.000000</td>\n",
              "      <td>80030.722507</td>\n",
              "      <td>237464.234614</td>\n",
              "    </tr>\n",
              "    <tr>\n",
              "      <th>max</th>\n",
              "      <td>90410.000000</td>\n",
              "      <td>36383.000000</td>\n",
              "      <td>34665.000000</td>\n",
              "      <td>3901.000000</td>\n",
              "      <td>7769.000000</td>\n",
              "      <td>1865.000000</td>\n",
              "      <td>7495.000000</td>\n",
              "      <td>123.000000</td>\n",
              "      <td>2989.000000</td>\n",
              "      <td>4702.000000</td>\n",
              "      <td>...</td>\n",
              "      <td>0.260151</td>\n",
              "      <td>271318.000000</td>\n",
              "      <td>142284.875030</td>\n",
              "      <td>32185.299743</td>\n",
              "      <td>198278.687068</td>\n",
              "      <td>122855.827195</td>\n",
              "      <td>0.0</td>\n",
              "      <td>59204.299611</td>\n",
              "      <td>257482.986679</td>\n",
              "      <td>276297.594694</td>\n",
              "    </tr>\n",
              "  </tbody>\n",
              "</table>\n",
              "<p>8 rows × 37 columns</p>\n",
              "</div>\n",
              "    <div class=\"colab-df-buttons\">\n",
              "\n",
              "  <div class=\"colab-df-container\">\n",
              "    <button class=\"colab-df-convert\" onclick=\"convertToInteractive('df-7ccea1fb-cb03-4924-a1a1-6fbeb1a73264')\"\n",
              "            title=\"Convert this dataframe to an interactive table.\"\n",
              "            style=\"display:none;\">\n",
              "\n",
              "  <svg xmlns=\"http://www.w3.org/2000/svg\" height=\"24px\" viewBox=\"0 -960 960 960\">\n",
              "    <path d=\"M120-120v-720h720v720H120Zm60-500h600v-160H180v160Zm220 220h160v-160H400v160Zm0 220h160v-160H400v160ZM180-400h160v-160H180v160Zm440 0h160v-160H620v160ZM180-180h160v-160H180v160Zm440 0h160v-160H620v160Z\"/>\n",
              "  </svg>\n",
              "    </button>\n",
              "\n",
              "  <style>\n",
              "    .colab-df-container {\n",
              "      display:flex;\n",
              "      gap: 12px;\n",
              "    }\n",
              "\n",
              "    .colab-df-convert {\n",
              "      background-color: #E8F0FE;\n",
              "      border: none;\n",
              "      border-radius: 50%;\n",
              "      cursor: pointer;\n",
              "      display: none;\n",
              "      fill: #1967D2;\n",
              "      height: 32px;\n",
              "      padding: 0 0 0 0;\n",
              "      width: 32px;\n",
              "    }\n",
              "\n",
              "    .colab-df-convert:hover {\n",
              "      background-color: #E2EBFA;\n",
              "      box-shadow: 0px 1px 2px rgba(60, 64, 67, 0.3), 0px 1px 3px 1px rgba(60, 64, 67, 0.15);\n",
              "      fill: #174EA6;\n",
              "    }\n",
              "\n",
              "    .colab-df-buttons div {\n",
              "      margin-bottom: 4px;\n",
              "    }\n",
              "\n",
              "    [theme=dark] .colab-df-convert {\n",
              "      background-color: #3B4455;\n",
              "      fill: #D2E3FC;\n",
              "    }\n",
              "\n",
              "    [theme=dark] .colab-df-convert:hover {\n",
              "      background-color: #434B5C;\n",
              "      box-shadow: 0px 1px 3px 1px rgba(0, 0, 0, 0.15);\n",
              "      filter: drop-shadow(0px 1px 2px rgba(0, 0, 0, 0.3));\n",
              "      fill: #FFFFFF;\n",
              "    }\n",
              "  </style>\n",
              "\n",
              "    <script>\n",
              "      const buttonEl =\n",
              "        document.querySelector('#df-7ccea1fb-cb03-4924-a1a1-6fbeb1a73264 button.colab-df-convert');\n",
              "      buttonEl.style.display =\n",
              "        google.colab.kernel.accessAllowed ? 'block' : 'none';\n",
              "\n",
              "      async function convertToInteractive(key) {\n",
              "        const element = document.querySelector('#df-7ccea1fb-cb03-4924-a1a1-6fbeb1a73264');\n",
              "        const dataTable =\n",
              "          await google.colab.kernel.invokeFunction('convertToInteractive',\n",
              "                                                    [key], {});\n",
              "        if (!dataTable) return;\n",
              "\n",
              "        const docLinkHtml = 'Like what you see? Visit the ' +\n",
              "          '<a target=\"_blank\" href=https://colab.research.google.com/notebooks/data_table.ipynb>data table notebook</a>'\n",
              "          + ' to learn more about interactive tables.';\n",
              "        element.innerHTML = '';\n",
              "        dataTable['output_type'] = 'display_data';\n",
              "        await google.colab.output.renderOutput(dataTable, element);\n",
              "        const docLink = document.createElement('div');\n",
              "        docLink.innerHTML = docLinkHtml;\n",
              "        element.appendChild(docLink);\n",
              "      }\n",
              "    </script>\n",
              "  </div>\n",
              "\n",
              "\n",
              "<div id=\"df-3ec2b0c8-73c3-4587-8899-8e0ee03d6a6d\">\n",
              "  <button class=\"colab-df-quickchart\" onclick=\"quickchart('df-3ec2b0c8-73c3-4587-8899-8e0ee03d6a6d')\"\n",
              "            title=\"Suggest charts\"\n",
              "            style=\"display:none;\">\n",
              "\n",
              "<svg xmlns=\"http://www.w3.org/2000/svg\" height=\"24px\"viewBox=\"0 0 24 24\"\n",
              "     width=\"24px\">\n",
              "    <g>\n",
              "        <path d=\"M19 3H5c-1.1 0-2 .9-2 2v14c0 1.1.9 2 2 2h14c1.1 0 2-.9 2-2V5c0-1.1-.9-2-2-2zM9 17H7v-7h2v7zm4 0h-2V7h2v10zm4 0h-2v-4h2v4z\"/>\n",
              "    </g>\n",
              "</svg>\n",
              "  </button>\n",
              "\n",
              "<style>\n",
              "  .colab-df-quickchart {\n",
              "      --bg-color: #E8F0FE;\n",
              "      --fill-color: #1967D2;\n",
              "      --hover-bg-color: #E2EBFA;\n",
              "      --hover-fill-color: #174EA6;\n",
              "      --disabled-fill-color: #AAA;\n",
              "      --disabled-bg-color: #DDD;\n",
              "  }\n",
              "\n",
              "  [theme=dark] .colab-df-quickchart {\n",
              "      --bg-color: #3B4455;\n",
              "      --fill-color: #D2E3FC;\n",
              "      --hover-bg-color: #434B5C;\n",
              "      --hover-fill-color: #FFFFFF;\n",
              "      --disabled-bg-color: #3B4455;\n",
              "      --disabled-fill-color: #666;\n",
              "  }\n",
              "\n",
              "  .colab-df-quickchart {\n",
              "    background-color: var(--bg-color);\n",
              "    border: none;\n",
              "    border-radius: 50%;\n",
              "    cursor: pointer;\n",
              "    display: none;\n",
              "    fill: var(--fill-color);\n",
              "    height: 32px;\n",
              "    padding: 0;\n",
              "    width: 32px;\n",
              "  }\n",
              "\n",
              "  .colab-df-quickchart:hover {\n",
              "    background-color: var(--hover-bg-color);\n",
              "    box-shadow: 0 1px 2px rgba(60, 64, 67, 0.3), 0 1px 3px 1px rgba(60, 64, 67, 0.15);\n",
              "    fill: var(--button-hover-fill-color);\n",
              "  }\n",
              "\n",
              "  .colab-df-quickchart-complete:disabled,\n",
              "  .colab-df-quickchart-complete:disabled:hover {\n",
              "    background-color: var(--disabled-bg-color);\n",
              "    fill: var(--disabled-fill-color);\n",
              "    box-shadow: none;\n",
              "  }\n",
              "\n",
              "  .colab-df-spinner {\n",
              "    border: 2px solid var(--fill-color);\n",
              "    border-color: transparent;\n",
              "    border-bottom-color: var(--fill-color);\n",
              "    animation:\n",
              "      spin 1s steps(1) infinite;\n",
              "  }\n",
              "\n",
              "  @keyframes spin {\n",
              "    0% {\n",
              "      border-color: transparent;\n",
              "      border-bottom-color: var(--fill-color);\n",
              "      border-left-color: var(--fill-color);\n",
              "    }\n",
              "    20% {\n",
              "      border-color: transparent;\n",
              "      border-left-color: var(--fill-color);\n",
              "      border-top-color: var(--fill-color);\n",
              "    }\n",
              "    30% {\n",
              "      border-color: transparent;\n",
              "      border-left-color: var(--fill-color);\n",
              "      border-top-color: var(--fill-color);\n",
              "      border-right-color: var(--fill-color);\n",
              "    }\n",
              "    40% {\n",
              "      border-color: transparent;\n",
              "      border-right-color: var(--fill-color);\n",
              "      border-top-color: var(--fill-color);\n",
              "    }\n",
              "    60% {\n",
              "      border-color: transparent;\n",
              "      border-right-color: var(--fill-color);\n",
              "    }\n",
              "    80% {\n",
              "      border-color: transparent;\n",
              "      border-right-color: var(--fill-color);\n",
              "      border-bottom-color: var(--fill-color);\n",
              "    }\n",
              "    90% {\n",
              "      border-color: transparent;\n",
              "      border-bottom-color: var(--fill-color);\n",
              "    }\n",
              "  }\n",
              "</style>\n",
              "\n",
              "  <script>\n",
              "    async function quickchart(key) {\n",
              "      const quickchartButtonEl =\n",
              "        document.querySelector('#' + key + ' button');\n",
              "      quickchartButtonEl.disabled = true;  // To prevent multiple clicks.\n",
              "      quickchartButtonEl.classList.add('colab-df-spinner');\n",
              "      try {\n",
              "        const charts = await google.colab.kernel.invokeFunction(\n",
              "            'suggestCharts', [key], {});\n",
              "      } catch (error) {\n",
              "        console.error('Error during call to suggestCharts:', error);\n",
              "      }\n",
              "      quickchartButtonEl.classList.remove('colab-df-spinner');\n",
              "      quickchartButtonEl.classList.add('colab-df-quickchart-complete');\n",
              "    }\n",
              "    (() => {\n",
              "      let quickchartButtonEl =\n",
              "        document.querySelector('#df-3ec2b0c8-73c3-4587-8899-8e0ee03d6a6d button');\n",
              "      quickchartButtonEl.style.display =\n",
              "        google.colab.kernel.accessAllowed ? 'block' : 'none';\n",
              "    })();\n",
              "  </script>\n",
              "</div>\n",
              "    </div>\n",
              "  </div>\n"
            ]
          },
          "metadata": {},
          "execution_count": 127
        }
      ]
    },
    {
      "cell_type": "code",
      "source": [
        "# -- first build the model\n",
        "model = sm.ols(\"StL_Index ~ POP_20 + FIS\", data=ccd)\n",
        "\n",
        "# -- now fit the model to the data\n",
        "result = model.fit()\n",
        "\n",
        "# -- summarize the model fit\n",
        "print(result.summary())"
      ],
      "metadata": {
        "id": "gzvEp3OSP6Sv",
        "outputId": "dce7e583-cbd0-4ab5-f209-6a7daf152719",
        "colab": {
          "base_uri": "https://localhost:8080/"
        }
      },
      "execution_count": 133,
      "outputs": [
        {
          "output_type": "stream",
          "name": "stdout",
          "text": [
            "                            OLS Regression Results                            \n",
            "==============================================================================\n",
            "Dep. Variable:              StL_Index   R-squared:                       0.637\n",
            "Model:                            OLS   Adj. R-squared:                  0.546\n",
            "Method:                 Least Squares   F-statistic:                     7.012\n",
            "Date:                Thu, 25 Jan 2024   Prob (F-statistic):             0.0174\n",
            "Time:                        20:24:20   Log-Likelihood:                -132.47\n",
            "No. Observations:                  11   AIC:                             270.9\n",
            "Df Residuals:                       8   BIC:                             272.1\n",
            "Df Model:                           2                                         \n",
            "Covariance Type:            nonrobust                                         \n",
            "==============================================================================\n",
            "                 coef    std err          t      P>|t|      [0.025      0.975]\n",
            "------------------------------------------------------------------------------\n",
            "Intercept  -2.468e+04   3.58e+04     -0.689      0.510   -1.07e+05    5.79e+04\n",
            "POP_20         2.0933      0.829      2.527      0.035       0.183       4.004\n",
            "FIS            1.8103      5.985      0.302      0.770     -11.992      15.613\n",
            "==============================================================================\n",
            "Omnibus:                        2.207   Durbin-Watson:                   3.005\n",
            "Prob(Omnibus):                  0.332   Jarque-Bera (JB):                1.289\n",
            "Skew:                           0.812   Prob(JB):                        0.525\n",
            "Kurtosis:                       2.581   Cond. No.                     1.42e+05\n",
            "==============================================================================\n",
            "\n",
            "Notes:\n",
            "[1] Standard Errors assume that the covariance matrix of the errors is correctly specified.\n",
            "[2] The condition number is large, 1.42e+05. This might indicate that there are\n",
            "strong multicollinearity or other numerical problems.\n"
          ]
        },
        {
          "output_type": "stream",
          "name": "stderr",
          "text": [
            "/usr/local/lib/python3.10/dist-packages/scipy/stats/_stats_py.py:1806: UserWarning: kurtosistest only valid for n>=20 ... continuing anyway, n=11\n",
            "  warnings.warn(\"kurtosistest only valid for n>=20 ... continuing \"\n"
          ]
        }
      ]
    }
  ]
}