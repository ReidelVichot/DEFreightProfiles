{
  "nbformat": 4,
  "nbformat_minor": 0,
  "metadata": {
    "colab": {
      "provenance": [],
      "include_colab_link": true
    },
    "kernelspec": {
      "name": "python3",
      "display_name": "Python 3"
    },
    "language_info": {
      "name": "python"
    }
  },
  "cells": [
    {
      "cell_type": "markdown",
      "metadata": {
        "id": "view-in-github",
        "colab_type": "text"
      },
      "source": [
        "<a href=\"https://colab.research.google.com/github/ReidelVichot/DEFreightProfiles/blob/main/Truck_Volume_prediction7-9.ipynb\" target=\"_parent\"><img src=\"https://colab.research.google.com/assets/colab-badge.svg\" alt=\"Open In Colab\"/></a>"
      ]
    },
    {
      "cell_type": "code",
      "execution_count": 123,
      "metadata": {
        "id": "7EXXKzeVCcVE"
      },
      "outputs": [],
      "source": [
        "import numpy as np\n",
        "import pandas as pd\n",
        "import matplotlib.pyplot as plt\n",
        "import geopandas as gpd"
      ]
    },
    {
      "cell_type": "code",
      "source": [
        "from google.colab import drive\n",
        "drive.mount('/content/drive')"
      ],
      "metadata": {
        "colab": {
          "base_uri": "https://localhost:8080/"
        },
        "id": "cfLhMbazCy5I",
        "outputId": "863dfb5f-948f-4f5e-c607-393a2bab9ff3"
      },
      "execution_count": 124,
      "outputs": [
        {
          "output_type": "stream",
          "name": "stdout",
          "text": [
            "Drive already mounted at /content/drive; to attempt to forcibly remount, call drive.mount(\"/content/drive\", force_remount=True).\n"
          ]
        }
      ]
    },
    {
      "cell_type": "code",
      "source": [
        "# Import CCD from google drive Source: Census\n",
        "ccd_name = \"/content/drive/My Drive/FreightProfiles/tl_rd22_10_cousub (1)/tl_rd22_10_cousub.shp\"\n",
        "ccd =  gpd.read_file(ccd_name)\n",
        "ccd = ccd.to_crs(\"EPSG:2235\")\n",
        "# Import tracks from google drive\n",
        "# Source: Fist Maps\n",
        "# https://de-firstmap-delaware.hub.arcgis.com/datasets/railroad-rail-lines/explore?location=39.655622%2C-75.765561%2C13.56\n",
        "rail_name = \"/content/drive/MyDrive/FreightProfiles/Delaware_Multimodal_2.0_tracks/Delaware_Multimodal_2.0.shp\"\n",
        "rail = gpd.read_file(rail_name)\n",
        "rail = rail.to_crs(\"EPSG:2235\")\n",
        "cols = ['NAME','geometry']\n",
        "ccd = ccd[cols]\n",
        "cols = ['TRACK_TYPE', 'STATUS', 'LINE_ID', 'OWNER', 'geometry']\n",
        "rail = rail[cols]"
      ],
      "metadata": {
        "id": "2iQBifB7C_M6"
      },
      "execution_count": 125,
      "outputs": []
    },
    {
      "cell_type": "code",
      "source": [
        "taz_name = \"/content/drive/MyDrive/temp_dstep23/TAZ_analysis/DE_TAZ_2021_TRKGEN_region.shp\"\n",
        "taz = gpd.read_file(taz_name)\n",
        "taz = taz.to_crs(\"EPSG:2235\")"
      ],
      "metadata": {
        "id": "-gOWa0bMs_9f"
      },
      "execution_count": 126,
      "outputs": []
    },
    {
      "cell_type": "code",
      "source": [
        "taz[\"FIS\"] = taz['TRN_UTL_20'] + taz['LE_HOSP_20'] + taz['CONS_20'] + taz['MANU_20']\n",
        "taz[\"SIS\"] = taz['OT_SVCS_20'] + taz['ED_HEALTH_'] + taz['FINANCE_20'] + taz['PRO_BUS_20'] + taz['LE_HOSP_20'] + taz['INFO_20']\n",
        "taz[\"FIS_per\"] = taz[\"FIS\"]/taz['TOT_20']*100\n",
        "taz_grpd = taz.groupby(\"CCD\").sum(numeric_only = True)\n",
        "taz_grpd[\"FIS_per\"] = taz_grpd[\"FIS\"]/taz_grpd[\"TOT_20\"]*100\n",
        "taz_grpd[\"FIS_capita\"] = taz_grpd[\"FIS\"]/taz_grpd[\"POP_20\"]\n",
        "taz_grpd.reset_index(inplace=True)\n",
        "taz_grpd.at[ 9, \"CCD\"] = \"Lower Christiana\"\n",
        "taz_grpd.at[25, \"CCD\"] = \"Upper Christiana\"\n",
        "taz_grpd.at[12, \"CCD\"] = \"Middletown-Odessa\"\n",
        "taz_grpd.at[20, \"CCD\"] = \"Pike Creek-Central Kirkwood\"\n",
        "ccd = ccd.merge(taz_grpd, left_on=\"NAME\", right_on=\"CCD\")"
      ],
      "metadata": {
        "id": "6_36wA6C3yrQ"
      },
      "execution_count": 127,
      "outputs": []
    },
    {
      "cell_type": "code",
      "source": [
        "CFC = gpd.read_file(\"/content/drive/MyDrive/FreightProfiles/Delaware_Freight_Corridors_-_FAST_Act_Critical_2.0 (1)/Delaware_Freight_Corridors_-_FAST_Act_Critical_2.0.shp\")\n",
        "CFC = CFC.to_crs(\"EPSG:2235\")"
      ],
      "metadata": {
        "id": "56Q97PIgcR-P"
      },
      "execution_count": 128,
      "outputs": []
    },
    {
      "cell_type": "code",
      "source": [
        "CoastalCorridor = gpd.read_file(\"/content/drive/MyDrive/FreightProfiles/CoastalCorridor/Delaware_Multimodal_2.0.shp\")\n",
        "CoastalCorridor = CoastalCorridor.to_crs(\"EPSG:2235\")\n",
        "\n",
        "MetroCorridor = gpd.read_file(\"/content/drive/MyDrive/FreightProfiles/MetroCorridor/Delaware_Multimodal_2.0.shp\")\n",
        "MetroCorridor = MetroCorridor.to_crs(\"EPSG:2235\")\n",
        "\n",
        "LewesCorridor = gpd.read_file(\"/content/drive/MyDrive/FreightProfiles/LewesCorridor/Delaware_Multimodal_2.0.shp\")\n",
        "LewesCorridor = LewesCorridor.to_crs(\"EPSG:2235\")\n",
        "\n",
        "BayCorridor = gpd.read_file(\"/content/drive/MyDrive/FreightProfiles/BayCorridor/Delaware_Multimodal_2.0.shp\")\n",
        "BayCorridor = BayCorridor.to_crs(\"EPSG:2235\")\n",
        "\n",
        "PiedmontCorridor = gpd.read_file(\"/content/drive/MyDrive/FreightProfiles/PiedmontCorridor/Delaware_Multimodal_2.0.shp\")\n",
        "PiedmontCorridor = PiedmontCorridor.to_crs(\"EPSG:2235\")"
      ],
      "metadata": {
        "id": "zKuUx15UHvmr"
      },
      "execution_count": 129,
      "outputs": []
    },
    {
      "cell_type": "code",
      "source": [
        "truck_traffic = pd.read_csv(\"/content/drive/MyDrive/FreightProfiles/StreetLight/1669875_All_CCDsAvailable_trucks_2020/1669875_All_CCDsAvailable_trucks_2020/1669875_All_CCDsAvailable_trucks_2020_odg_comm.csv\")"
      ],
      "metadata": {
        "id": "MVxn692Ucq_T"
      },
      "execution_count": 130,
      "outputs": []
    },
    {
      "cell_type": "code",
      "source": [
        "cols = ['Vehicle Weight', 'Origin Zone ID', 'Origin Zone Name',\n",
        "        'Origin Zone Source', 'Destination Zone ID', 'Destination Zone Name',\n",
        "        'Destination Zone Source', 'Day Type', 'Day Part',\n",
        "        'Average Daily O-D Traffic (StL Index)',\n",
        "        'Average Daily Origin Zone Traffic (StL Index)',\n",
        "       'Average Daily Destination Zone Traffic (StL Index)',\n",
        "       'Avg Travel Time (sec)']"
      ],
      "metadata": {
        "id": "vGwCYwM6gmxq"
      },
      "execution_count": 131,
      "outputs": []
    },
    {
      "cell_type": "code",
      "source": [
        "truck_traffic = truck_traffic[cols]"
      ],
      "metadata": {
        "id": "5IUdj-KwgVW4"
      },
      "execution_count": 132,
      "outputs": []
    },
    {
      "cell_type": "code",
      "source": [
        "ccd[\"NAME\"].values"
      ],
      "metadata": {
        "colab": {
          "base_uri": "https://localhost:8080/"
        },
        "id": "YDAFSZP30Uam",
        "outputId": "3a539624-0949-401a-fee5-3808277e12ce"
      },
      "execution_count": 133,
      "outputs": [
        {
          "output_type": "execute_result",
          "data": {
            "text/plain": [
              "array(['Lewes', 'Millsboro', 'Central Kent', 'Smyrna',\n",
              "       'Middletown-Odessa', 'New Castle', 'Pike Creek-Central Kirkwood',\n",
              "       'Wilmington', 'Lower Christiana', 'Piedmont', 'Upper Christiana',\n",
              "       'Georgetown', 'Milford South', 'Seaford', 'Selbyville-Frankford',\n",
              "       'Laurel-Delmar', 'Milton', 'Bridgeville-Greenwood', 'Dover',\n",
              "       'Kenton', 'Felton', 'Milford North', 'Harrington', 'Brandywine',\n",
              "       'Glasgow', 'Red Lion', 'Newark'], dtype=object)"
            ]
          },
          "metadata": {},
          "execution_count": 133
        }
      ]
    },
    {
      "cell_type": "code",
      "source": [
        "truck_traffic2 = truck_traffic[truck_traffic[\"Day Type\"]==\"0: All Days (M-Su)\"][truck_traffic['Day Part']==\"00: All Day (12am-12am)\"][truck_traffic['Vehicle Weight']==\"Medium\"].groupby(\"Destination Zone Name\").sum(numeric_only=True).reset_index()"
      ],
      "metadata": {
        "colab": {
          "base_uri": "https://localhost:8080/"
        },
        "id": "8oSQqW6BkWyA",
        "outputId": "a5142edb-9636-4d70-93a9-c2fe756b8c1b"
      },
      "execution_count": 134,
      "outputs": [
        {
          "output_type": "stream",
          "name": "stderr",
          "text": [
            "<ipython-input-134-3d4bc846a7b7>:1: UserWarning: Boolean Series key will be reindexed to match DataFrame index.\n",
            "  truck_traffic2 = truck_traffic[truck_traffic[\"Day Type\"]==\"0: All Days (M-Su)\"][truck_traffic['Day Part']==\"00: All Day (12am-12am)\"][truck_traffic['Vehicle Weight']==\"Medium\"].groupby(\"Destination Zone Name\").sum(numeric_only=True).reset_index()\n",
            "<ipython-input-134-3d4bc846a7b7>:1: UserWarning: Boolean Series key will be reindexed to match DataFrame index.\n",
            "  truck_traffic2 = truck_traffic[truck_traffic[\"Day Type\"]==\"0: All Days (M-Su)\"][truck_traffic['Day Part']==\"00: All Day (12am-12am)\"][truck_traffic['Vehicle Weight']==\"Medium\"].groupby(\"Destination Zone Name\").sum(numeric_only=True).reset_index()\n"
          ]
        }
      ]
    },
    {
      "cell_type": "code",
      "source": [
        "truck_traffic_ccd = truck_traffic2[truck_traffic2[\"Destination Zone Name\"].isin(ccd[\"NAME\"].values)][['Destination Zone Name', 'Average Daily O-D Traffic (StL Index)']]"
      ],
      "metadata": {
        "id": "osPAGq3B0qPe"
      },
      "execution_count": 135,
      "outputs": []
    },
    {
      "cell_type": "code",
      "source": [
        "truck_traffic_ccd"
      ],
      "metadata": {
        "colab": {
          "base_uri": "https://localhost:8080/",
          "height": 394
        },
        "id": "-JKiFGFz4FsJ",
        "outputId": "44ac0341-bf6a-4d41-830b-db07138e2b7e"
      },
      "execution_count": 136,
      "outputs": [
        {
          "output_type": "execute_result",
          "data": {
            "text/plain": [
              "             Destination Zone Name  Average Daily O-D Traffic (StL Index)\n",
              "12752                   Brandywine                                  80891\n",
              "12753                      Glasgow                                  34758\n",
              "12754             Lower Christiana                                  57720\n",
              "12755            Middletown-Odessa                                  67748\n",
              "12756                   New Castle                                 146032\n",
              "12757                       Newark                                  76117\n",
              "12758                     Piedmont                                  28466\n",
              "12759  Pike Creek-Central Kirkwood                                  29027\n",
              "12760                     Red Lion                                  18492\n",
              "12761             Upper Christiana                                  49069\n",
              "12762                   Wilmington                                  68376"
            ],
            "text/html": [
              "\n",
              "  <div id=\"df-8297bbb4-f97e-446c-8acb-1f32890d6964\" class=\"colab-df-container\">\n",
              "    <div>\n",
              "<style scoped>\n",
              "    .dataframe tbody tr th:only-of-type {\n",
              "        vertical-align: middle;\n",
              "    }\n",
              "\n",
              "    .dataframe tbody tr th {\n",
              "        vertical-align: top;\n",
              "    }\n",
              "\n",
              "    .dataframe thead th {\n",
              "        text-align: right;\n",
              "    }\n",
              "</style>\n",
              "<table border=\"1\" class=\"dataframe\">\n",
              "  <thead>\n",
              "    <tr style=\"text-align: right;\">\n",
              "      <th></th>\n",
              "      <th>Destination Zone Name</th>\n",
              "      <th>Average Daily O-D Traffic (StL Index)</th>\n",
              "    </tr>\n",
              "  </thead>\n",
              "  <tbody>\n",
              "    <tr>\n",
              "      <th>12752</th>\n",
              "      <td>Brandywine</td>\n",
              "      <td>80891</td>\n",
              "    </tr>\n",
              "    <tr>\n",
              "      <th>12753</th>\n",
              "      <td>Glasgow</td>\n",
              "      <td>34758</td>\n",
              "    </tr>\n",
              "    <tr>\n",
              "      <th>12754</th>\n",
              "      <td>Lower Christiana</td>\n",
              "      <td>57720</td>\n",
              "    </tr>\n",
              "    <tr>\n",
              "      <th>12755</th>\n",
              "      <td>Middletown-Odessa</td>\n",
              "      <td>67748</td>\n",
              "    </tr>\n",
              "    <tr>\n",
              "      <th>12756</th>\n",
              "      <td>New Castle</td>\n",
              "      <td>146032</td>\n",
              "    </tr>\n",
              "    <tr>\n",
              "      <th>12757</th>\n",
              "      <td>Newark</td>\n",
              "      <td>76117</td>\n",
              "    </tr>\n",
              "    <tr>\n",
              "      <th>12758</th>\n",
              "      <td>Piedmont</td>\n",
              "      <td>28466</td>\n",
              "    </tr>\n",
              "    <tr>\n",
              "      <th>12759</th>\n",
              "      <td>Pike Creek-Central Kirkwood</td>\n",
              "      <td>29027</td>\n",
              "    </tr>\n",
              "    <tr>\n",
              "      <th>12760</th>\n",
              "      <td>Red Lion</td>\n",
              "      <td>18492</td>\n",
              "    </tr>\n",
              "    <tr>\n",
              "      <th>12761</th>\n",
              "      <td>Upper Christiana</td>\n",
              "      <td>49069</td>\n",
              "    </tr>\n",
              "    <tr>\n",
              "      <th>12762</th>\n",
              "      <td>Wilmington</td>\n",
              "      <td>68376</td>\n",
              "    </tr>\n",
              "  </tbody>\n",
              "</table>\n",
              "</div>\n",
              "    <div class=\"colab-df-buttons\">\n",
              "\n",
              "  <div class=\"colab-df-container\">\n",
              "    <button class=\"colab-df-convert\" onclick=\"convertToInteractive('df-8297bbb4-f97e-446c-8acb-1f32890d6964')\"\n",
              "            title=\"Convert this dataframe to an interactive table.\"\n",
              "            style=\"display:none;\">\n",
              "\n",
              "  <svg xmlns=\"http://www.w3.org/2000/svg\" height=\"24px\" viewBox=\"0 -960 960 960\">\n",
              "    <path d=\"M120-120v-720h720v720H120Zm60-500h600v-160H180v160Zm220 220h160v-160H400v160Zm0 220h160v-160H400v160ZM180-400h160v-160H180v160Zm440 0h160v-160H620v160ZM180-180h160v-160H180v160Zm440 0h160v-160H620v160Z\"/>\n",
              "  </svg>\n",
              "    </button>\n",
              "\n",
              "  <style>\n",
              "    .colab-df-container {\n",
              "      display:flex;\n",
              "      gap: 12px;\n",
              "    }\n",
              "\n",
              "    .colab-df-convert {\n",
              "      background-color: #E8F0FE;\n",
              "      border: none;\n",
              "      border-radius: 50%;\n",
              "      cursor: pointer;\n",
              "      display: none;\n",
              "      fill: #1967D2;\n",
              "      height: 32px;\n",
              "      padding: 0 0 0 0;\n",
              "      width: 32px;\n",
              "    }\n",
              "\n",
              "    .colab-df-convert:hover {\n",
              "      background-color: #E2EBFA;\n",
              "      box-shadow: 0px 1px 2px rgba(60, 64, 67, 0.3), 0px 1px 3px 1px rgba(60, 64, 67, 0.15);\n",
              "      fill: #174EA6;\n",
              "    }\n",
              "\n",
              "    .colab-df-buttons div {\n",
              "      margin-bottom: 4px;\n",
              "    }\n",
              "\n",
              "    [theme=dark] .colab-df-convert {\n",
              "      background-color: #3B4455;\n",
              "      fill: #D2E3FC;\n",
              "    }\n",
              "\n",
              "    [theme=dark] .colab-df-convert:hover {\n",
              "      background-color: #434B5C;\n",
              "      box-shadow: 0px 1px 3px 1px rgba(0, 0, 0, 0.15);\n",
              "      filter: drop-shadow(0px 1px 2px rgba(0, 0, 0, 0.3));\n",
              "      fill: #FFFFFF;\n",
              "    }\n",
              "  </style>\n",
              "\n",
              "    <script>\n",
              "      const buttonEl =\n",
              "        document.querySelector('#df-8297bbb4-f97e-446c-8acb-1f32890d6964 button.colab-df-convert');\n",
              "      buttonEl.style.display =\n",
              "        google.colab.kernel.accessAllowed ? 'block' : 'none';\n",
              "\n",
              "      async function convertToInteractive(key) {\n",
              "        const element = document.querySelector('#df-8297bbb4-f97e-446c-8acb-1f32890d6964');\n",
              "        const dataTable =\n",
              "          await google.colab.kernel.invokeFunction('convertToInteractive',\n",
              "                                                    [key], {});\n",
              "        if (!dataTable) return;\n",
              "\n",
              "        const docLinkHtml = 'Like what you see? Visit the ' +\n",
              "          '<a target=\"_blank\" href=https://colab.research.google.com/notebooks/data_table.ipynb>data table notebook</a>'\n",
              "          + ' to learn more about interactive tables.';\n",
              "        element.innerHTML = '';\n",
              "        dataTable['output_type'] = 'display_data';\n",
              "        await google.colab.output.renderOutput(dataTable, element);\n",
              "        const docLink = document.createElement('div');\n",
              "        docLink.innerHTML = docLinkHtml;\n",
              "        element.appendChild(docLink);\n",
              "      }\n",
              "    </script>\n",
              "  </div>\n",
              "\n",
              "\n",
              "<div id=\"df-7c87fdb8-5e2c-4d5d-be48-1b9646ee25a5\">\n",
              "  <button class=\"colab-df-quickchart\" onclick=\"quickchart('df-7c87fdb8-5e2c-4d5d-be48-1b9646ee25a5')\"\n",
              "            title=\"Suggest charts\"\n",
              "            style=\"display:none;\">\n",
              "\n",
              "<svg xmlns=\"http://www.w3.org/2000/svg\" height=\"24px\"viewBox=\"0 0 24 24\"\n",
              "     width=\"24px\">\n",
              "    <g>\n",
              "        <path d=\"M19 3H5c-1.1 0-2 .9-2 2v14c0 1.1.9 2 2 2h14c1.1 0 2-.9 2-2V5c0-1.1-.9-2-2-2zM9 17H7v-7h2v7zm4 0h-2V7h2v10zm4 0h-2v-4h2v4z\"/>\n",
              "    </g>\n",
              "</svg>\n",
              "  </button>\n",
              "\n",
              "<style>\n",
              "  .colab-df-quickchart {\n",
              "      --bg-color: #E8F0FE;\n",
              "      --fill-color: #1967D2;\n",
              "      --hover-bg-color: #E2EBFA;\n",
              "      --hover-fill-color: #174EA6;\n",
              "      --disabled-fill-color: #AAA;\n",
              "      --disabled-bg-color: #DDD;\n",
              "  }\n",
              "\n",
              "  [theme=dark] .colab-df-quickchart {\n",
              "      --bg-color: #3B4455;\n",
              "      --fill-color: #D2E3FC;\n",
              "      --hover-bg-color: #434B5C;\n",
              "      --hover-fill-color: #FFFFFF;\n",
              "      --disabled-bg-color: #3B4455;\n",
              "      --disabled-fill-color: #666;\n",
              "  }\n",
              "\n",
              "  .colab-df-quickchart {\n",
              "    background-color: var(--bg-color);\n",
              "    border: none;\n",
              "    border-radius: 50%;\n",
              "    cursor: pointer;\n",
              "    display: none;\n",
              "    fill: var(--fill-color);\n",
              "    height: 32px;\n",
              "    padding: 0;\n",
              "    width: 32px;\n",
              "  }\n",
              "\n",
              "  .colab-df-quickchart:hover {\n",
              "    background-color: var(--hover-bg-color);\n",
              "    box-shadow: 0 1px 2px rgba(60, 64, 67, 0.3), 0 1px 3px 1px rgba(60, 64, 67, 0.15);\n",
              "    fill: var(--button-hover-fill-color);\n",
              "  }\n",
              "\n",
              "  .colab-df-quickchart-complete:disabled,\n",
              "  .colab-df-quickchart-complete:disabled:hover {\n",
              "    background-color: var(--disabled-bg-color);\n",
              "    fill: var(--disabled-fill-color);\n",
              "    box-shadow: none;\n",
              "  }\n",
              "\n",
              "  .colab-df-spinner {\n",
              "    border: 2px solid var(--fill-color);\n",
              "    border-color: transparent;\n",
              "    border-bottom-color: var(--fill-color);\n",
              "    animation:\n",
              "      spin 1s steps(1) infinite;\n",
              "  }\n",
              "\n",
              "  @keyframes spin {\n",
              "    0% {\n",
              "      border-color: transparent;\n",
              "      border-bottom-color: var(--fill-color);\n",
              "      border-left-color: var(--fill-color);\n",
              "    }\n",
              "    20% {\n",
              "      border-color: transparent;\n",
              "      border-left-color: var(--fill-color);\n",
              "      border-top-color: var(--fill-color);\n",
              "    }\n",
              "    30% {\n",
              "      border-color: transparent;\n",
              "      border-left-color: var(--fill-color);\n",
              "      border-top-color: var(--fill-color);\n",
              "      border-right-color: var(--fill-color);\n",
              "    }\n",
              "    40% {\n",
              "      border-color: transparent;\n",
              "      border-right-color: var(--fill-color);\n",
              "      border-top-color: var(--fill-color);\n",
              "    }\n",
              "    60% {\n",
              "      border-color: transparent;\n",
              "      border-right-color: var(--fill-color);\n",
              "    }\n",
              "    80% {\n",
              "      border-color: transparent;\n",
              "      border-right-color: var(--fill-color);\n",
              "      border-bottom-color: var(--fill-color);\n",
              "    }\n",
              "    90% {\n",
              "      border-color: transparent;\n",
              "      border-bottom-color: var(--fill-color);\n",
              "    }\n",
              "  }\n",
              "</style>\n",
              "\n",
              "  <script>\n",
              "    async function quickchart(key) {\n",
              "      const quickchartButtonEl =\n",
              "        document.querySelector('#' + key + ' button');\n",
              "      quickchartButtonEl.disabled = true;  // To prevent multiple clicks.\n",
              "      quickchartButtonEl.classList.add('colab-df-spinner');\n",
              "      try {\n",
              "        const charts = await google.colab.kernel.invokeFunction(\n",
              "            'suggestCharts', [key], {});\n",
              "      } catch (error) {\n",
              "        console.error('Error during call to suggestCharts:', error);\n",
              "      }\n",
              "      quickchartButtonEl.classList.remove('colab-df-spinner');\n",
              "      quickchartButtonEl.classList.add('colab-df-quickchart-complete');\n",
              "    }\n",
              "    (() => {\n",
              "      let quickchartButtonEl =\n",
              "        document.querySelector('#df-7c87fdb8-5e2c-4d5d-be48-1b9646ee25a5 button');\n",
              "      quickchartButtonEl.style.display =\n",
              "        google.colab.kernel.accessAllowed ? 'block' : 'none';\n",
              "    })();\n",
              "  </script>\n",
              "</div>\n",
              "\n",
              "  <div id=\"id_1d62acda-ee5d-4c4d-af91-cdb37f1c4977\">\n",
              "    <style>\n",
              "      .colab-df-generate {\n",
              "        background-color: #E8F0FE;\n",
              "        border: none;\n",
              "        border-radius: 50%;\n",
              "        cursor: pointer;\n",
              "        display: none;\n",
              "        fill: #1967D2;\n",
              "        height: 32px;\n",
              "        padding: 0 0 0 0;\n",
              "        width: 32px;\n",
              "      }\n",
              "\n",
              "      .colab-df-generate:hover {\n",
              "        background-color: #E2EBFA;\n",
              "        box-shadow: 0px 1px 2px rgba(60, 64, 67, 0.3), 0px 1px 3px 1px rgba(60, 64, 67, 0.15);\n",
              "        fill: #174EA6;\n",
              "      }\n",
              "\n",
              "      [theme=dark] .colab-df-generate {\n",
              "        background-color: #3B4455;\n",
              "        fill: #D2E3FC;\n",
              "      }\n",
              "\n",
              "      [theme=dark] .colab-df-generate:hover {\n",
              "        background-color: #434B5C;\n",
              "        box-shadow: 0px 1px 3px 1px rgba(0, 0, 0, 0.15);\n",
              "        filter: drop-shadow(0px 1px 2px rgba(0, 0, 0, 0.3));\n",
              "        fill: #FFFFFF;\n",
              "      }\n",
              "    </style>\n",
              "    <button class=\"colab-df-generate\" onclick=\"generateWithVariable('truck_traffic_ccd')\"\n",
              "            title=\"Generate code using this dataframe.\"\n",
              "            style=\"display:none;\">\n",
              "\n",
              "  <svg xmlns=\"http://www.w3.org/2000/svg\" height=\"24px\"viewBox=\"0 0 24 24\"\n",
              "       width=\"24px\">\n",
              "    <path d=\"M7,19H8.4L18.45,9,17,7.55,7,17.6ZM5,21V16.75L18.45,3.32a2,2,0,0,1,2.83,0l1.4,1.43a1.91,1.91,0,0,1,.58,1.4,1.91,1.91,0,0,1-.58,1.4L9.25,21ZM18.45,9,17,7.55Zm-12,3A5.31,5.31,0,0,0,4.9,8.1,5.31,5.31,0,0,0,1,6.5,5.31,5.31,0,0,0,4.9,4.9,5.31,5.31,0,0,0,6.5,1,5.31,5.31,0,0,0,8.1,4.9,5.31,5.31,0,0,0,12,6.5,5.46,5.46,0,0,0,6.5,12Z\"/>\n",
              "  </svg>\n",
              "    </button>\n",
              "    <script>\n",
              "      (() => {\n",
              "      const buttonEl =\n",
              "        document.querySelector('#id_1d62acda-ee5d-4c4d-af91-cdb37f1c4977 button.colab-df-generate');\n",
              "      buttonEl.style.display =\n",
              "        google.colab.kernel.accessAllowed ? 'block' : 'none';\n",
              "\n",
              "      buttonEl.onclick = () => {\n",
              "        google.colab.notebook.generateWithVariable('truck_traffic_ccd');\n",
              "      }\n",
              "      })();\n",
              "    </script>\n",
              "  </div>\n",
              "\n",
              "    </div>\n",
              "  </div>\n"
            ],
            "application/vnd.google.colaboratory.intrinsic+json": {
              "type": "dataframe",
              "variable_name": "truck_traffic_ccd",
              "summary": "{\n  \"name\": \"truck_traffic_ccd\",\n  \"rows\": 11,\n  \"fields\": [\n    {\n      \"column\": \"Destination Zone Name\",\n      \"properties\": {\n        \"dtype\": \"string\",\n        \"num_unique_values\": 11,\n        \"samples\": [\n          \"Newark\",\n          \"Brandywine\",\n          \"Upper Christiana\"\n        ],\n        \"semantic_type\": \"\",\n        \"description\": \"\"\n      }\n    },\n    {\n      \"column\": \"Average Daily O-D Traffic (StL Index)\",\n      \"properties\": {\n        \"dtype\": \"number\",\n        \"std\": 35588,\n        \"min\": 18492,\n        \"max\": 146032,\n        \"num_unique_values\": 11,\n        \"samples\": [\n          76117,\n          80891,\n          49069\n        ],\n        \"semantic_type\": \"\",\n        \"description\": \"\"\n      }\n    }\n  ]\n}"
            }
          },
          "metadata": {},
          "execution_count": 136
        }
      ]
    },
    {
      "cell_type": "code",
      "source": [
        "ccd  = ccd.merge(truck_traffic_ccd, left_on=\"CCD\", right_on=\"Destination Zone Name\")"
      ],
      "metadata": {
        "id": "I82zM5PhgjQI"
      },
      "execution_count": 137,
      "outputs": []
    },
    {
      "cell_type": "code",
      "source": [
        "ccd.plot(x=\"POP_20\",y=\"Average Daily O-D Traffic (StL Index)\", kind=\"scatter\")"
      ],
      "metadata": {
        "colab": {
          "base_uri": "https://localhost:8080/",
          "height": 466
        },
        "id": "tW1MLECGkHNx",
        "outputId": "27181426-64df-4806-ec6c-8af872f0f814"
      },
      "execution_count": 138,
      "outputs": [
        {
          "output_type": "execute_result",
          "data": {
            "text/plain": [
              "<Axes: xlabel='POP_20', ylabel='Average Daily O-D Traffic (StL Index)'>"
            ]
          },
          "metadata": {},
          "execution_count": 138
        },
        {
          "output_type": "display_data",
          "data": {
            "text/plain": [
              "<Figure size 640x480 with 1 Axes>"
            ],
            "image/png": "[encoded data removed]"
          },
          "metadata": {}
        }
      ]
    },
    {
      "cell_type": "code",
      "source": [
        "ccd.plot(x=\"FIS_capita\",y=\"Average Daily O-D Traffic (StL Index)\", kind=\"scatter\")"
      ],
      "metadata": {
        "colab": {
          "base_uri": "https://localhost:8080/",
          "height": 467
        },
        "id": "lBYXBhy68_8R",
        "outputId": "9cb28905-70c0-40ea-c446-fe7fc1d52842"
      },
      "execution_count": 139,
      "outputs": [
        {
          "output_type": "execute_result",
          "data": {
            "text/plain": [
              "<Axes: xlabel='FIS_capita', ylabel='Average Daily O-D Traffic (StL Index)'>"
            ]
          },
          "metadata": {},
          "execution_count": 139
        },
        {
          "output_type": "display_data",
          "data": {
            "text/plain": [
              "<Figure size 640x480 with 1 Axes>"
            ],
            "image/png": "[encoded data removed]"
          },
          "metadata": {}
        }
      ]
    },
    {
      "cell_type": "code",
      "source": [
        "CFC_ccd = gpd.overlay(CFC, ccd, how=\"intersection\")\n",
        "CFC_ccd[\"length_CFC\"] = CFC_ccd.length\n",
        "CFC_ccd = CFC_ccd.groupby(\"NAME\").sum(numeric_only=True).reset_index()[[\"NAME\",\"length_CFC\"]]"
      ],
      "metadata": {
        "id": "wx2oWlzeVDsi"
      },
      "execution_count": 140,
      "outputs": []
    },
    {
      "cell_type": "code",
      "source": [
        "PiedmontCorridor_ccd = gpd.overlay(PiedmontCorridor, ccd, how=\"intersection\", keep_geom_type=True)\n",
        "PiedmontCorridor_ccd[\"length_Piedmont\"] = PiedmontCorridor_ccd.length\n",
        "PiedmontCorridor_ccd = PiedmontCorridor_ccd.groupby(\"NAME\").sum(numeric_only=True).reset_index()[[\"NAME\",\"length_Piedmont\"]]"
      ],
      "metadata": {
        "id": "yHaQ3Su8CMgc"
      },
      "execution_count": 141,
      "outputs": []
    },
    {
      "cell_type": "code",
      "source": [
        "CoastalCorridor_ccd = gpd.overlay(CoastalCorridor, ccd, how=\"intersection\", keep_geom_type=True)\n",
        "CoastalCorridor_ccd[\"length_Coastal\"] = CoastalCorridor_ccd.length\n",
        "CoastalCorridor_ccd = CoastalCorridor_ccd.groupby(\"NAME\").sum(numeric_only=True).reset_index()[[\"NAME\",\"length_Coastal\"]]"
      ],
      "metadata": {
        "id": "gYRrpy99UjnP"
      },
      "execution_count": 142,
      "outputs": []
    },
    {
      "cell_type": "code",
      "source": [
        "MetroCorridor_ccd = gpd.overlay(MetroCorridor, ccd, how=\"intersection\", keep_geom_type=True)\n",
        "MetroCorridor_ccd[\"length_Metro\"] = MetroCorridor_ccd.length\n",
        "MetroCorridor_ccd = MetroCorridor_ccd.groupby(\"NAME\").sum(numeric_only=True).reset_index()[[\"NAME\",\"length_Metro\"]]"
      ],
      "metadata": {
        "id": "XHXUhnexf46w"
      },
      "execution_count": 143,
      "outputs": []
    },
    {
      "cell_type": "code",
      "source": [
        "#--- Empty\n",
        "LewesCorridor_ccd = gpd.overlay(LewesCorridor, ccd, how=\"intersection\", keep_geom_type=True)\n",
        "LewesCorridor_ccd[\"length_Lewes\"] = LewesCorridor_ccd.length\n",
        "LewesCorridor_ccd = LewesCorridor_ccd.groupby(\"NAME\").sum(numeric_only=True).reset_index()[[\"NAME\",\"length_Lewes\"]]"
      ],
      "metadata": {
        "id": "BJUNVGr0f_3i"
      },
      "execution_count": 144,
      "outputs": []
    },
    {
      "cell_type": "code",
      "source": [
        "BayCorridor_ccd = gpd.overlay(BayCorridor, ccd, how=\"intersection\", keep_geom_type=True)\n",
        "BayCorridor_ccd[\"length_Bay\"] = BayCorridor_ccd.length\n",
        "BayCorridor_ccd = BayCorridor_ccd.groupby(\"NAME\").sum(numeric_only=True).reset_index()[[\"NAME\",\"length_Bay\"]]"
      ],
      "metadata": {
        "id": "taozj3PBgHjT"
      },
      "execution_count": 145,
      "outputs": []
    },
    {
      "cell_type": "code",
      "source": [
        "ccd = ccd.merge(CFC_ccd, on=\"NAME\", how=\"left\").fillna(0)\n",
        "ccd = ccd.merge(PiedmontCorridor_ccd, on=\"NAME\", how=\"left\").fillna(0)\n",
        "ccd = ccd.merge(CoastalCorridor_ccd, on=\"NAME\", how=\"left\").fillna(0)\n",
        "ccd = ccd.merge(MetroCorridor_ccd, on=\"NAME\", how=\"left\").fillna(0)\n",
        "# Empty\n",
        "#ccd = ccd.merge(LewesCorridor_ccd, left_on=\"CCD\", right_on=\"NAME\", how=\"left\")\n",
        "ccd = ccd.merge(BayCorridor_ccd, on=\"NAME\", how=\"left\").fillna(0)"
      ],
      "metadata": {
        "id": "VOV_7f-3Uu2b"
      },
      "execution_count": 146,
      "outputs": []
    },
    {
      "cell_type": "code",
      "source": [
        "# Before remove Lewes Corridor\n",
        "#ccd[\"freight_length\"] = ccd[\"length_CFC\"] + ccd[\"length_Piedmont\"] + ccd[\"length_Coastal\"] + ccd[\"length_Metro\"] + ccd[\"length_Lewes\"] + ccd[\"length_Bay\"]\n",
        "ccd[\"freight_length\"] = ccd[\"length_CFC\"] + ccd[\"length_Piedmont\"] + ccd[\"length_Coastal\"] + ccd[\"length_Metro\"] + ccd[\"length_Bay\"]"
      ],
      "metadata": {
        "id": "EZyRlqEPukx8"
      },
      "execution_count": 147,
      "outputs": []
    },
    {
      "cell_type": "code",
      "source": [
        "ccd = ccd.drop(columns=[\"NAME\"])"
      ],
      "metadata": {
        "id": "u9qt-SL4ulRS"
      },
      "execution_count": 148,
      "outputs": []
    },
    {
      "cell_type": "code",
      "source": [
        "rail_ccd = gpd.overlay(rail, ccd, how=\"intersection\", keep_geom_type=True)\n",
        "rail_ccd[\"rail_length\"] = rail_ccd.length\n",
        "rail_ccd = rail_ccd.groupby(\"CCD\").sum(numeric_only=True).reset_index()[[\"CCD\",\"rail_length\"]]"
      ],
      "metadata": {
        "id": "1DuRzLfOE0ML"
      },
      "execution_count": 149,
      "outputs": []
    },
    {
      "cell_type": "code",
      "source": [
        "ccd = ccd.merge(rail_ccd, on=\"CCD\", how=\"left\").fillna(0)"
      ],
      "metadata": {
        "id": "GkiPr3x5Gol7"
      },
      "execution_count": 150,
      "outputs": []
    },
    {
      "cell_type": "code",
      "source": [
        "# Adding parking values\n",
        "dir = \"/content/drive/MyDrive/FreightProfiles/\"\n",
        "truck_parking_name =  dir + \"DE_Undesig_Clusters/DE_Undesig_Clusters/Delaware_Undesig_Clusters.shp\"\n",
        "truck_parking =  gpd.read_file(truck_parking_name)\n",
        "truck_parking = truck_parking.to_crs(\"EPSG:2235\")\n",
        "truck_parking[\"geometry\"] = truck_parking.centroid\n"
      ],
      "metadata": {
        "id": "Ngw2guGkDiRT"
      },
      "execution_count": 151,
      "outputs": []
    },
    {
      "cell_type": "code",
      "source": [
        "truck_parking_ccd = gpd.overlay(truck_parking, ccd[[\"CCD\",\"geometry\"]], how=\"intersection\")"
      ],
      "metadata": {
        "id": "IZgktWRRHBzI"
      },
      "execution_count": 152,
      "outputs": []
    },
    {
      "cell_type": "code",
      "source": [
        "count_parking = truck_parking_ccd.groupby(\"CCD\").count()[[\"geometry\"]].reset_index()\n",
        "count_parking.columns = [\"CCD\",\"count_parking\"]\n",
        "\n",
        "count_spots = truck_parking_ccd.groupby(\"CCD\").sum(numeric_only=True).reset_index()\n",
        "count_spots.columns = [\"CCD\",\"count_spots\"]\n",
        "\n",
        "ccd = ccd.merge(count_parking, on=\"CCD\", how=\"left\").fillna(0)\n",
        "ccd = ccd.merge(count_spots, on=\"CCD\", how=\"left\").fillna(0)"
      ],
      "metadata": {
        "id": "5Y5bidQ-rVEL"
      },
      "execution_count": 153,
      "outputs": []
    },
    {
      "cell_type": "code",
      "source": [
        "ccd.rename(columns={\"Average Daily O-D Traffic (StL Index)\":\"StL_Index\"}, inplace=True)"
      ],
      "metadata": {
        "id": "fuyWRqi6xF5s"
      },
      "execution_count": 154,
      "outputs": []
    },
    {
      "cell_type": "code",
      "source": [
        "# -- import statmodels using the formula api\n",
        "import statsmodels.formula.api as sm\n",
        "import statsmodels.api as smf\n",
        "\n",
        "# -- first build the model\n",
        "model = sm.rlm(\"StL_Index ~ TOT_Units_ + FIS + freight_length + rail_length\", data=ccd, M=smf.robust.norms.HuberT())\n",
        "\n",
        "# -- now fit the model to the data\n",
        "result = model.fit()\n",
        "\n",
        "# -- summarize the model fit\n",
        "print(result.summary())"
      ],
      "metadata": {
        "id": "8aigiVOC7CLa",
        "outputId": "05f87d97-43f8-4e5f-fc83-0acdc28e59b0",
        "colab": {
          "base_uri": "https://localhost:8080/"
        }
      },
      "execution_count": 165,
      "outputs": [
        {
          "output_type": "stream",
          "name": "stdout",
          "text": [
            "                    Robust linear Model Regression Results                    \n",
            "==============================================================================\n",
            "Dep. Variable:              StL_Index   No. Observations:                   11\n",
            "Model:                            RLM   Df Residuals:                        6\n",
            "Method:                          IRLS   Df Model:                            4\n",
            "Norm:                          HuberT                                         \n",
            "Scale Est.:                       mad                                         \n",
            "Cov Type:                          H1                                         \n",
            "Date:                Tue, 09 Jul 2024                                         \n",
            "Time:                        23:50:18                                         \n",
            "No. Iterations:                     8                                         \n",
            "==================================================================================\n",
            "                     coef    std err          z      P>|z|      [0.025      0.975]\n",
            "----------------------------------------------------------------------------------\n",
            "Intercept       6502.0442   4400.971      1.477      0.140   -2123.700    1.51e+04\n",
            "TOT_Units_         0.5980      0.297      2.011      0.044       0.015       1.181\n",
            "FIS                5.2756      1.024      5.150      0.000       3.268       7.283\n",
            "freight_length     0.0743      0.017      4.442      0.000       0.041       0.107\n",
            "rail_length       -0.0370      0.031     -1.195      0.232      -0.098       0.024\n",
            "==================================================================================\n",
            "\n",
            "If the model instance has been used for another fit with different fit parameters, then the fit options might not be the correct ones anymore .\n"
          ]
        }
      ]
    },
    {
      "cell_type": "code",
      "source": [
        "# -- import statmodels using the formula api\n",
        "import statsmodels.formula.api as sm\n",
        "\n",
        "# -- first build the model\n",
        "model = sm.ols(\"StL_Index ~ TOT_Units_ + FIS + freight_length + rail_length\", data=ccd)\n",
        "\n",
        "# -- now fit the model to the data\n",
        "result = model.fit()\n",
        "\n",
        "# -- summarize the model fit\n",
        "print(result.summary())"
      ],
      "metadata": {
        "id": "8Bvbs7Bp4yrW"
      },
      "execution_count": null,
      "outputs": []
    },
    {
      "cell_type": "code",
      "source": [],
      "metadata": {
        "id": "0nSbJR0i7-zo"
      },
      "execution_count": null,
      "outputs": []
    },
    {
      "cell_type": "code",
      "source": [
        "# -- first build the model\n",
        "model = sm.ols(\"StL_Index ~ POP_20 + Adj_EMP_20 + CONS_20 + MANU_20 + WHL_RET_20 + TRN_UTL_20 + FIS_20 + freight_length + rail_length\", data=ccd)\n",
        "\n",
        "# -- now fit the model to the data\n",
        "result = model.fit()\n",
        "\n",
        "# -- summarize the model fit\n",
        "print(result.summary())"
      ],
      "metadata": {
        "id": "hGAbQLBklhfQ"
      },
      "execution_count": null,
      "outputs": []
    },
    {
      "cell_type": "code",
      "source": [],
      "metadata": {
        "id": "ncADjdiFrSqC"
      },
      "execution_count": null,
      "outputs": []
    }
  ]
}